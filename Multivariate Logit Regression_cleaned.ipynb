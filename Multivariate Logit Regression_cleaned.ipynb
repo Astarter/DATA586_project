{
 "cells": [
  {
   "cell_type": "markdown",
   "metadata": {},
   "source": [
    "# Multivariate logit regression"
   ]
  },
  {
   "cell_type": "code",
   "execution_count": 1,
   "metadata": {},
   "outputs": [],
   "source": [
    "# data wrangling:\n",
    "import pandas as pd\n",
    "import numpy as np\n",
    "\n",
    "# data_preparation\n",
    "from sklearn.preprocessing import RobustScaler\n",
    "from sklearn.model_selection import train_test_split\n",
    "from sklearn.preprocessing import OneHotEncoder\n",
    "from sklearn.preprocessing import LabelEncoder\n",
    "\n",
    "# modeling\n",
    "from sklearn.linear_model import LogisticRegression\n",
    "from sklearn.feature_selection import RFE\n",
    "\n",
    "\n",
    "# model validation\n",
    "from sklearn.metrics import accuracy_score\n",
    "from sklearn.metrics import classification_report\n",
    "from sklearn.metrics import confusion_matrix"
   ]
  },
  {
   "cell_type": "markdown",
   "metadata": {},
   "source": [
    "### Dataset"
   ]
  },
  {
   "cell_type": "code",
   "execution_count": 4,
   "metadata": {},
   "outputs": [],
   "source": [
    "data = pd.read_csv(\"labelled.csv\", low_memory=False)"
   ]
  },
  {
   "cell_type": "code",
   "execution_count": 6,
   "metadata": {},
   "outputs": [
    {
     "name": "stdout",
     "output_type": "stream",
     "text": [
      "<class 'pandas.core.frame.DataFrame'>\n",
      "RangeIndex: 11170084 entries, 0 to 11170083\n",
      "Data columns (total 14 columns):\n",
      " #   Column          Dtype \n",
      "---  ------          ----- \n",
      " 0   block_id        object\n",
      " 1   first_digits    int64 \n",
      " 2   second_digits   int64 \n",
      " 3   third_digits    int64 \n",
      " 4   message         object\n",
      " 5   event_type      object\n",
      " 6   block_asterisk  object\n",
      " 7   add_ver         object\n",
      " 8   dru             object\n",
      " 9   trans_fail      object\n",
      " 10  rrswe           object\n",
      " 11  cerj            object\n",
      " 12  pack_rec        object\n",
      " 13  Label           object\n",
      "dtypes: int64(3), object(11)\n",
      "memory usage: 1.2+ GB\n"
     ]
    }
   ],
   "source": [
    "data = data.drop(columns=[\"Unnamed: 0\"])\n",
    "data.info()"
   ]
  },
  {
   "cell_type": "code",
   "execution_count": 8,
   "metadata": {},
   "outputs": [
    {
     "name": "stdout",
     "output_type": "stream",
     "text": [
      "normal:  10887157 anomaly: 282927\n"
     ]
    }
   ],
   "source": [
    "# Count the number of anormaly, and normal.\n",
    "normal = data[data.Label == \"Normal\"].index\n",
    "anomaly = data[data.Label == \"Anomaly\"].index\n",
    "\n",
    "print(\"normal: \", len(normal), \"anomaly:\", len(anomaly))"
   ]
  },
  {
   "cell_type": "code",
   "execution_count": 9,
   "metadata": {},
   "outputs": [
    {
     "data": {
      "text/html": [
       "<div>\n",
       "<style scoped>\n",
       "    .dataframe tbody tr th:only-of-type {\n",
       "        vertical-align: middle;\n",
       "    }\n",
       "\n",
       "    .dataframe tbody tr th {\n",
       "        vertical-align: top;\n",
       "    }\n",
       "\n",
       "    .dataframe thead th {\n",
       "        text-align: right;\n",
       "    }\n",
       "</style>\n",
       "<table border=\"1\" class=\"dataframe\">\n",
       "  <thead>\n",
       "    <tr style=\"text-align: right;\">\n",
       "      <th></th>\n",
       "      <th>block_id</th>\n",
       "      <th>first_digits</th>\n",
       "      <th>second_digits</th>\n",
       "      <th>third_digits</th>\n",
       "      <th>message</th>\n",
       "      <th>event_type</th>\n",
       "      <th>block_asterisk</th>\n",
       "      <th>add_ver</th>\n",
       "      <th>dru</th>\n",
       "      <th>trans_fail</th>\n",
       "      <th>rrswe</th>\n",
       "      <th>cerj</th>\n",
       "      <th>pack_rec</th>\n",
       "      <th>Label</th>\n",
       "    </tr>\n",
       "  </thead>\n",
       "  <tbody>\n",
       "    <tr>\n",
       "      <th>291</th>\n",
       "      <td>blk_-3544583377289625738</td>\n",
       "      <td>81109</td>\n",
       "      <td>203521</td>\n",
       "      <td>29</td>\n",
       "      <td>INFO</td>\n",
       "      <td>dfs.FSNamesystem:</td>\n",
       "      <td>NameSystem.allocateBlock:</td>\n",
       "      <td>NaN</td>\n",
       "      <td>NaN</td>\n",
       "      <td>NaN</td>\n",
       "      <td>NaN</td>\n",
       "      <td>NaN</td>\n",
       "      <td>NaN</td>\n",
       "      <td>Anomaly</td>\n",
       "    </tr>\n",
       "    <tr>\n",
       "      <th>292</th>\n",
       "      <td>blk_-3544583377289625738</td>\n",
       "      <td>81109</td>\n",
       "      <td>203523</td>\n",
       "      <td>29</td>\n",
       "      <td>INFO</td>\n",
       "      <td>dfs.FSNamesystem:</td>\n",
       "      <td>NameSystem.addStoredBlock:</td>\n",
       "      <td>NaN</td>\n",
       "      <td>NaN</td>\n",
       "      <td>NaN</td>\n",
       "      <td>NaN</td>\n",
       "      <td>NaN</td>\n",
       "      <td>NaN</td>\n",
       "      <td>Anomaly</td>\n",
       "    </tr>\n",
       "    <tr>\n",
       "      <th>293</th>\n",
       "      <td>blk_-3544583377289625738</td>\n",
       "      <td>81109</td>\n",
       "      <td>203523</td>\n",
       "      <td>33</td>\n",
       "      <td>INFO</td>\n",
       "      <td>dfs.FSNamesystem:</td>\n",
       "      <td>NameSystem.addStoredBlock:</td>\n",
       "      <td>NaN</td>\n",
       "      <td>NaN</td>\n",
       "      <td>NaN</td>\n",
       "      <td>NaN</td>\n",
       "      <td>NaN</td>\n",
       "      <td>NaN</td>\n",
       "      <td>Anomaly</td>\n",
       "    </tr>\n",
       "    <tr>\n",
       "      <th>294</th>\n",
       "      <td>blk_-3544583377289625738</td>\n",
       "      <td>81109</td>\n",
       "      <td>203523</td>\n",
       "      <td>33</td>\n",
       "      <td>INFO</td>\n",
       "      <td>dfs.FSNamesystem:</td>\n",
       "      <td>NameSystem.addStoredBlock:</td>\n",
       "      <td>NaN</td>\n",
       "      <td>NaN</td>\n",
       "      <td>NaN</td>\n",
       "      <td>NaN</td>\n",
       "      <td>NaN</td>\n",
       "      <td>NaN</td>\n",
       "      <td>Anomaly</td>\n",
       "    </tr>\n",
       "    <tr>\n",
       "      <th>295</th>\n",
       "      <td>blk_-3544583377289625738</td>\n",
       "      <td>81109</td>\n",
       "      <td>213809</td>\n",
       "      <td>32</td>\n",
       "      <td>INFO</td>\n",
       "      <td>dfs.FSNamesystem:</td>\n",
       "      <td>NameSystem.delete:</td>\n",
       "      <td>NaN</td>\n",
       "      <td>NaN</td>\n",
       "      <td>NaN</td>\n",
       "      <td>NaN</td>\n",
       "      <td>NaN</td>\n",
       "      <td>NaN</td>\n",
       "      <td>Anomaly</td>\n",
       "    </tr>\n",
       "  </tbody>\n",
       "</table>\n",
       "</div>"
      ],
      "text/plain": [
       "                     block_id  first_digits  second_digits  third_digits  \\\n",
       "291  blk_-3544583377289625738         81109         203521            29   \n",
       "292  blk_-3544583377289625738         81109         203523            29   \n",
       "293  blk_-3544583377289625738         81109         203523            33   \n",
       "294  blk_-3544583377289625738         81109         203523            33   \n",
       "295  blk_-3544583377289625738         81109         213809            32   \n",
       "\n",
       "    message         event_type              block_asterisk add_ver  dru  \\\n",
       "291    INFO  dfs.FSNamesystem:   NameSystem.allocateBlock:     NaN  NaN   \n",
       "292    INFO  dfs.FSNamesystem:  NameSystem.addStoredBlock:     NaN  NaN   \n",
       "293    INFO  dfs.FSNamesystem:  NameSystem.addStoredBlock:     NaN  NaN   \n",
       "294    INFO  dfs.FSNamesystem:  NameSystem.addStoredBlock:     NaN  NaN   \n",
       "295    INFO  dfs.FSNamesystem:          NameSystem.delete:     NaN  NaN   \n",
       "\n",
       "    trans_fail rrswe cerj pack_rec    Label  \n",
       "291        NaN   NaN  NaN      NaN  Anomaly  \n",
       "292        NaN   NaN  NaN      NaN  Anomaly  \n",
       "293        NaN   NaN  NaN      NaN  Anomaly  \n",
       "294        NaN   NaN  NaN      NaN  Anomaly  \n",
       "295        NaN   NaN  NaN      NaN  Anomaly  "
      ]
     },
     "execution_count": 9,
     "metadata": {},
     "output_type": "execute_result"
    }
   ],
   "source": [
    "# Avoiding find a needle in the haystack\n",
    "\n",
    "# from all normal observations, randomly select observations equal to number of anomaly observations\n",
    "random_normal = np.random.choice(normal, len(anomaly), replace = False)\n",
    "random_normal = np.array(random_normal)\n",
    "\n",
    "under_sample_indices = np.concatenate([anomaly, random_normal])\n",
    "\n",
    "under_sample_data = data.iloc[under_sample_indices,:]\n",
    "under_sample_data.head()"
   ]
  },
  {
   "cell_type": "code",
   "execution_count": 10,
   "metadata": {},
   "outputs": [],
   "source": [
    "X = under_sample_data.drop(columns = [\"Label\", \"first_digits\", \"second_digits\", \"third_digits\"])\n",
    "Y = under_sample_data.Label\n",
    "\n",
    "X_train, X_test, y_train, y_test = train_test_split(X, Y, test_size=0.3, random_state=0)"
   ]
  },
  {
   "cell_type": "code",
   "execution_count": 11,
   "metadata": {},
   "outputs": [],
   "source": [
    "# One hot encoding, to deal with the categorical data\n",
    "\n",
    "encoder = OneHotEncoder()\n",
    "encoder.fit(X)\n",
    "X_train = encoder.transform(X_train)\n",
    "X_test = encoder.transform(X_test)"
   ]
  },
  {
   "cell_type": "code",
   "execution_count": 12,
   "metadata": {},
   "outputs": [],
   "source": [
    "# Label encoding, now the data are set for model-fitting.\n",
    "\n",
    "label_encoder = LabelEncoder()\n",
    "label_encoder.fit(Y)\n",
    "y_train = label_encoder.transform(y_train)\n",
    "y_test = label_encoder.transform(y_test)"
   ]
  },
  {
   "cell_type": "markdown",
   "metadata": {},
   "source": [
    "### Model implementation and training"
   ]
  },
  {
   "cell_type": "code",
   "execution_count": 13,
   "metadata": {},
   "outputs": [
    {
     "name": "stderr",
     "output_type": "stream",
     "text": [
      "C:\\ProgramData\\Miniconda3\\lib\\site-packages\\sklearn\\linear_model\\_logistic.py:763: ConvergenceWarning: lbfgs failed to converge (status=1):\n",
      "STOP: TOTAL NO. of ITERATIONS REACHED LIMIT.\n",
      "\n",
      "Increase the number of iterations (max_iter) or scale the data as shown in:\n",
      "    https://scikit-learn.org/stable/modules/preprocessing.html\n",
      "Please also refer to the documentation for alternative solver options:\n",
      "    https://scikit-learn.org/stable/modules/linear_model.html#logistic-regression\n",
      "  n_iter_i = _check_optimize_result(\n"
     ]
    },
    {
     "data": {
      "text/plain": [
       "LogisticRegression()"
      ]
     },
     "execution_count": 13,
     "metadata": {},
     "output_type": "execute_result"
    }
   ],
   "source": [
    "# Model-fitting\n",
    "\n",
    "model = LogisticRegression()\n",
    "model.fit(X_train, y_train)"
   ]
  },
  {
   "cell_type": "markdown",
   "metadata": {},
   "source": [
    "### Model evaluation"
   ]
  },
  {
   "cell_type": "code",
   "execution_count": 14,
   "metadata": {},
   "outputs": [],
   "source": [
    "# Use the model to predict.\n",
    "\n",
    "yhat = model.predict(X_test)"
   ]
  },
  {
   "cell_type": "code",
   "execution_count": 15,
   "metadata": {},
   "outputs": [
    {
     "name": "stdout",
     "output_type": "stream",
     "text": [
      "Accuracy: 97.20\n"
     ]
    }
   ],
   "source": [
    "accuracy = accuracy_score(y_test, yhat)\n",
    "print('Accuracy: %.2f' % (accuracy*100))"
   ]
  },
  {
   "cell_type": "code",
   "execution_count": 18,
   "metadata": {},
   "outputs": [
    {
     "data": {
      "text/plain": [
       "(79898, 4689, 62, 85108)"
      ]
     },
     "execution_count": 18,
     "metadata": {},
     "output_type": "execute_result"
    }
   ],
   "source": [
    "# Confusion matrix:\n",
    "tn, fp, fn, tp = confusion_matrix(y_test, yhat).ravel()\n",
    "(tn, fp, fn, tp)"
   ]
  },
  {
   "cell_type": "code",
   "execution_count": 17,
   "metadata": {},
   "outputs": [
    {
     "name": "stdout",
     "output_type": "stream",
     "text": [
      "              precision    recall  f1-score   support\n",
      "\n",
      "           0       1.00      0.94      0.97     84587\n",
      "           1       0.95      1.00      0.97     85170\n",
      "\n",
      "    accuracy                           0.97    169757\n",
      "   macro avg       0.97      0.97      0.97    169757\n",
      "weighted avg       0.97      0.97      0.97    169757\n",
      "\n"
     ]
    }
   ],
   "source": [
    "# calssification report\n",
    "c_r = classification_report(y_test, yhat)\n",
    "print(c_r)"
   ]
  },
  {
   "cell_type": "code",
   "execution_count": null,
   "metadata": {},
   "outputs": [],
   "source": []
  }
 ],
 "metadata": {
  "kernelspec": {
   "display_name": "Python 3",
   "language": "python",
   "name": "python3"
  },
  "language_info": {
   "codemirror_mode": {
    "name": "ipython",
    "version": 3
   },
   "file_extension": ".py",
   "mimetype": "text/x-python",
   "name": "python",
   "nbconvert_exporter": "python",
   "pygments_lexer": "ipython3",
   "version": "3.8.3"
  }
 },
 "nbformat": 4,
 "nbformat_minor": 4
}
