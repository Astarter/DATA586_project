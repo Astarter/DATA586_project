{
 "cells": [
  {
   "cell_type": "code",
   "execution_count": 20,
   "metadata": {},
   "outputs": [],
   "source": [
    "import pandas as pd"
   ]
  },
  {
   "cell_type": "code",
   "execution_count": 21,
   "metadata": {},
   "outputs": [
    {
     "name": "stderr",
     "output_type": "stream",
     "text": [
      "C:\\Users\\conno\\miniconda3\\lib\\site-packages\\numpy\\lib\\arraysetops.py:583: FutureWarning: elementwise comparison failed; returning scalar instead, but in the future will perform elementwise comparison\n",
      "  mask |= (ar1 == a)\n"
     ]
    }
   ],
   "source": [
    "df_0 = pd.read_csv(\"string_dfs/df_0_string.csv\", index_col=0)\n",
    "df_1 = pd.read_csv(\"string_dfs/df_1_string.csv\", index_col=0)\n",
    "df_2 = pd.read_csv(\"string_dfs/df_2_string.csv\", index_col=0)\n",
    "df_3 = pd.read_csv(\"string_dfs/df_3_string.csv\", index_col=0)\n",
    "df_4 = pd.read_csv(\"string_dfs/df_4_string.csv\", index_col=0)\n",
    "df_5 = pd.read_csv(\"string_dfs/df_5_string.csv\", index_col=0)\n",
    "df_6 = pd.read_csv(\"string_dfs/df_6_string.csv\", index_col=0)\n",
    "df_7 = pd.read_csv(\"string_dfs/df_7_string.csv\", index_col=0)\n",
    "df_8 = pd.read_csv(\"string_dfs/df_8_string.csv\", index_col=0)\n",
    "df_labels = pd.read_csv(\"anomaly_label.csv\")"
   ]
  },
  {
   "cell_type": "code",
   "execution_count": 22,
   "metadata": {},
   "outputs": [],
   "source": [
    "df_labels.rename(columns= {\"BlockId\": \"block_id\"}, inplace= True)"
   ]
  },
  {
   "cell_type": "code",
   "execution_count": 23,
   "metadata": {},
   "outputs": [
    {
     "data": {
      "text/plain": [
       "11175629"
      ]
     },
     "execution_count": 23,
     "metadata": {},
     "output_type": "execute_result"
    }
   ],
   "source": [
    "len(df_0) + len(df_1) + len(df_2) + len(df_3) + len(df_4) + len(df_5) + len(df_6) + len(df_7) + len(df_8)"
   ]
  },
  {
   "cell_type": "code",
   "execution_count": 24,
   "metadata": {},
   "outputs": [
    {
     "data": {
      "text/plain": [
       "6946"
      ]
     },
     "execution_count": 24,
     "metadata": {},
     "output_type": "execute_result"
    }
   ],
   "source": [
    "len(df_4)"
   ]
  },
  {
   "cell_type": "code",
   "execution_count": 25,
   "metadata": {},
   "outputs": [
    {
     "data": {
      "text/plain": [
       "7002"
      ]
     },
     "execution_count": 25,
     "metadata": {},
     "output_type": "execute_result"
    }
   ],
   "source": [
    "len(df_5)"
   ]
  },
  {
   "cell_type": "code",
   "execution_count": 26,
   "metadata": {},
   "outputs": [],
   "source": [
    "frames = [df_0, df_1, df_2, df_3, df_4, df_5, df_6, df_7, df_8]"
   ]
  },
  {
   "cell_type": "code",
   "execution_count": 27,
   "metadata": {},
   "outputs": [],
   "source": [
    "result = pd.concat(frames, ignore_index= True)"
   ]
  },
  {
   "cell_type": "code",
   "execution_count": 28,
   "metadata": {},
   "outputs": [
    {
     "name": "stdout",
     "output_type": "stream",
     "text": [
      "<class 'pandas.core.frame.DataFrame'>\n",
      "RangeIndex: 11175629 entries, 0 to 11175628\n",
      "Data columns (total 13 columns):\n",
      " #   Column          Dtype \n",
      "---  ------          ----- \n",
      " 0   block_id        object\n",
      " 1   first_digits    int64 \n",
      " 2   second_digits   int64 \n",
      " 3   third_digits    int64 \n",
      " 4   message         object\n",
      " 5   event_type      object\n",
      " 6   block_asterisk  object\n",
      " 7   add_ver         object\n",
      " 8   dru             object\n",
      " 9   trans_fail      object\n",
      " 10  rrswe           object\n",
      " 11  cerj            object\n",
      " 12  pack_rec        object\n",
      "dtypes: int64(3), object(10)\n",
      "memory usage: 1.1+ GB\n"
     ]
    }
   ],
   "source": [
    "result.info()"
   ]
  },
  {
   "cell_type": "code",
   "execution_count": 29,
   "metadata": {},
   "outputs": [
    {
     "data": {
      "text/plain": [
       "580406"
      ]
     },
     "execution_count": 29,
     "metadata": {},
     "output_type": "execute_result"
    }
   ],
   "source": [
    "len(result['block_id'].unique())"
   ]
  },
  {
   "cell_type": "code",
   "execution_count": 30,
   "metadata": {},
   "outputs": [
    {
     "data": {
      "text/plain": [
       "575061"
      ]
     },
     "execution_count": 30,
     "metadata": {},
     "output_type": "execute_result"
    }
   ],
   "source": [
    "len(df_labels)"
   ]
  },
  {
   "cell_type": "code",
   "execution_count": 31,
   "metadata": {},
   "outputs": [
    {
     "data": {
      "text/html": [
       "<div>\n",
       "<style scoped>\n",
       "    .dataframe tbody tr th:only-of-type {\n",
       "        vertical-align: middle;\n",
       "    }\n",
       "\n",
       "    .dataframe tbody tr th {\n",
       "        vertical-align: top;\n",
       "    }\n",
       "\n",
       "    .dataframe thead th {\n",
       "        text-align: right;\n",
       "    }\n",
       "</style>\n",
       "<table border=\"1\" class=\"dataframe\">\n",
       "  <thead>\n",
       "    <tr style=\"text-align: right;\">\n",
       "      <th></th>\n",
       "      <th>block_id</th>\n",
       "      <th>Label</th>\n",
       "    </tr>\n",
       "  </thead>\n",
       "  <tbody>\n",
       "    <tr>\n",
       "      <th>0</th>\n",
       "      <td>blk_-1608999687919862906</td>\n",
       "      <td>Normal</td>\n",
       "    </tr>\n",
       "    <tr>\n",
       "      <th>1</th>\n",
       "      <td>blk_7503483334202473044</td>\n",
       "      <td>Normal</td>\n",
       "    </tr>\n",
       "    <tr>\n",
       "      <th>2</th>\n",
       "      <td>blk_-3544583377289625738</td>\n",
       "      <td>Anomaly</td>\n",
       "    </tr>\n",
       "    <tr>\n",
       "      <th>3</th>\n",
       "      <td>blk_-9073992586687739851</td>\n",
       "      <td>Normal</td>\n",
       "    </tr>\n",
       "    <tr>\n",
       "      <th>4</th>\n",
       "      <td>blk_7854771516489510256</td>\n",
       "      <td>Normal</td>\n",
       "    </tr>\n",
       "  </tbody>\n",
       "</table>\n",
       "</div>"
      ],
      "text/plain": [
       "                   block_id    Label\n",
       "0  blk_-1608999687919862906   Normal\n",
       "1   blk_7503483334202473044   Normal\n",
       "2  blk_-3544583377289625738  Anomaly\n",
       "3  blk_-9073992586687739851   Normal\n",
       "4   blk_7854771516489510256   Normal"
      ]
     },
     "execution_count": 31,
     "metadata": {},
     "output_type": "execute_result"
    }
   ],
   "source": [
    "df_labels.head()"
   ]
  },
  {
   "cell_type": "code",
   "execution_count": 32,
   "metadata": {},
   "outputs": [],
   "source": [
    "df_full_labelled = pd.merge(result, df_labels, on= 'block_id')"
   ]
  },
  {
   "cell_type": "code",
   "execution_count": 33,
   "metadata": {},
   "outputs": [
    {
     "data": {
      "text/html": [
       "<div>\n",
       "<style scoped>\n",
       "    .dataframe tbody tr th:only-of-type {\n",
       "        vertical-align: middle;\n",
       "    }\n",
       "\n",
       "    .dataframe tbody tr th {\n",
       "        vertical-align: top;\n",
       "    }\n",
       "\n",
       "    .dataframe thead th {\n",
       "        text-align: right;\n",
       "    }\n",
       "</style>\n",
       "<table border=\"1\" class=\"dataframe\">\n",
       "  <thead>\n",
       "    <tr style=\"text-align: right;\">\n",
       "      <th></th>\n",
       "      <th>block_id</th>\n",
       "      <th>first_digits</th>\n",
       "      <th>second_digits</th>\n",
       "      <th>third_digits</th>\n",
       "      <th>message</th>\n",
       "      <th>event_type</th>\n",
       "      <th>block_asterisk</th>\n",
       "      <th>add_ver</th>\n",
       "      <th>dru</th>\n",
       "      <th>trans_fail</th>\n",
       "      <th>rrswe</th>\n",
       "      <th>cerj</th>\n",
       "      <th>pack_rec</th>\n",
       "      <th>Label</th>\n",
       "    </tr>\n",
       "  </thead>\n",
       "  <tbody>\n",
       "    <tr>\n",
       "      <th>0</th>\n",
       "      <td>blk_-1608999687919862906</td>\n",
       "      <td>81109</td>\n",
       "      <td>203518</td>\n",
       "      <td>35</td>\n",
       "      <td>INFO</td>\n",
       "      <td>dfs.FSNamesystem:</td>\n",
       "      <td>NameSystem.allocateBlock:</td>\n",
       "      <td>NaN</td>\n",
       "      <td>NaN</td>\n",
       "      <td>NaN</td>\n",
       "      <td>NaN</td>\n",
       "      <td>NaN</td>\n",
       "      <td>NaN</td>\n",
       "      <td>Normal</td>\n",
       "    </tr>\n",
       "    <tr>\n",
       "      <th>1</th>\n",
       "      <td>blk_-1608999687919862906</td>\n",
       "      <td>81109</td>\n",
       "      <td>203519</td>\n",
       "      <td>29</td>\n",
       "      <td>INFO</td>\n",
       "      <td>dfs.FSNamesystem:</td>\n",
       "      <td>NameSystem.addStoredBlock:</td>\n",
       "      <td>NaN</td>\n",
       "      <td>NaN</td>\n",
       "      <td>NaN</td>\n",
       "      <td>NaN</td>\n",
       "      <td>NaN</td>\n",
       "      <td>NaN</td>\n",
       "      <td>Normal</td>\n",
       "    </tr>\n",
       "    <tr>\n",
       "      <th>2</th>\n",
       "      <td>blk_-1608999687919862906</td>\n",
       "      <td>81109</td>\n",
       "      <td>203519</td>\n",
       "      <td>30</td>\n",
       "      <td>INFO</td>\n",
       "      <td>dfs.FSNamesystem:</td>\n",
       "      <td>NameSystem.addStoredBlock:</td>\n",
       "      <td>NaN</td>\n",
       "      <td>NaN</td>\n",
       "      <td>NaN</td>\n",
       "      <td>NaN</td>\n",
       "      <td>NaN</td>\n",
       "      <td>NaN</td>\n",
       "      <td>Normal</td>\n",
       "    </tr>\n",
       "    <tr>\n",
       "      <th>3</th>\n",
       "      <td>blk_-1608999687919862906</td>\n",
       "      <td>81109</td>\n",
       "      <td>203519</td>\n",
       "      <td>31</td>\n",
       "      <td>INFO</td>\n",
       "      <td>dfs.FSNamesystem:</td>\n",
       "      <td>NameSystem.addStoredBlock:</td>\n",
       "      <td>NaN</td>\n",
       "      <td>NaN</td>\n",
       "      <td>NaN</td>\n",
       "      <td>NaN</td>\n",
       "      <td>NaN</td>\n",
       "      <td>NaN</td>\n",
       "      <td>Normal</td>\n",
       "    </tr>\n",
       "    <tr>\n",
       "      <th>4</th>\n",
       "      <td>blk_-1608999687919862906</td>\n",
       "      <td>81109</td>\n",
       "      <td>203521</td>\n",
       "      <td>19</td>\n",
       "      <td>INFO</td>\n",
       "      <td>dfs.FSNamesystem:</td>\n",
       "      <td>ask</td>\n",
       "      <td>NaN</td>\n",
       "      <td>NaN</td>\n",
       "      <td>NaN</td>\n",
       "      <td>NaN</td>\n",
       "      <td>NaN</td>\n",
       "      <td>NaN</td>\n",
       "      <td>Normal</td>\n",
       "    </tr>\n",
       "    <tr>\n",
       "      <th>5</th>\n",
       "      <td>blk_-1608999687919862906</td>\n",
       "      <td>81109</td>\n",
       "      <td>203521</td>\n",
       "      <td>30</td>\n",
       "      <td>INFO</td>\n",
       "      <td>dfs.FSNamesystem:</td>\n",
       "      <td>NameSystem.addStoredBlock:</td>\n",
       "      <td>NaN</td>\n",
       "      <td>NaN</td>\n",
       "      <td>NaN</td>\n",
       "      <td>NaN</td>\n",
       "      <td>NaN</td>\n",
       "      <td>NaN</td>\n",
       "      <td>Normal</td>\n",
       "    </tr>\n",
       "    <tr>\n",
       "      <th>6</th>\n",
       "      <td>blk_-1608999687919862906</td>\n",
       "      <td>81109</td>\n",
       "      <td>203521</td>\n",
       "      <td>34</td>\n",
       "      <td>INFO</td>\n",
       "      <td>dfs.FSNamesystem:</td>\n",
       "      <td>NameSystem.addStoredBlock:</td>\n",
       "      <td>NaN</td>\n",
       "      <td>NaN</td>\n",
       "      <td>NaN</td>\n",
       "      <td>NaN</td>\n",
       "      <td>NaN</td>\n",
       "      <td>NaN</td>\n",
       "      <td>Normal</td>\n",
       "    </tr>\n",
       "    <tr>\n",
       "      <th>7</th>\n",
       "      <td>blk_-1608999687919862906</td>\n",
       "      <td>81109</td>\n",
       "      <td>203524</td>\n",
       "      <td>19</td>\n",
       "      <td>INFO</td>\n",
       "      <td>dfs.FSNamesystem:</td>\n",
       "      <td>ask</td>\n",
       "      <td>NaN</td>\n",
       "      <td>NaN</td>\n",
       "      <td>NaN</td>\n",
       "      <td>NaN</td>\n",
       "      <td>NaN</td>\n",
       "      <td>NaN</td>\n",
       "      <td>Normal</td>\n",
       "    </tr>\n",
       "    <tr>\n",
       "      <th>8</th>\n",
       "      <td>blk_-1608999687919862906</td>\n",
       "      <td>81109</td>\n",
       "      <td>203526</td>\n",
       "      <td>28</td>\n",
       "      <td>INFO</td>\n",
       "      <td>dfs.FSNamesystem:</td>\n",
       "      <td>NameSystem.addStoredBlock:</td>\n",
       "      <td>NaN</td>\n",
       "      <td>NaN</td>\n",
       "      <td>NaN</td>\n",
       "      <td>NaN</td>\n",
       "      <td>NaN</td>\n",
       "      <td>NaN</td>\n",
       "      <td>Normal</td>\n",
       "    </tr>\n",
       "    <tr>\n",
       "      <th>9</th>\n",
       "      <td>blk_-1608999687919862906</td>\n",
       "      <td>81109</td>\n",
       "      <td>203526</td>\n",
       "      <td>29</td>\n",
       "      <td>INFO</td>\n",
       "      <td>dfs.FSNamesystem:</td>\n",
       "      <td>NameSystem.addStoredBlock:</td>\n",
       "      <td>NaN</td>\n",
       "      <td>NaN</td>\n",
       "      <td>NaN</td>\n",
       "      <td>NaN</td>\n",
       "      <td>NaN</td>\n",
       "      <td>NaN</td>\n",
       "      <td>Normal</td>\n",
       "    </tr>\n",
       "  </tbody>\n",
       "</table>\n",
       "</div>"
      ],
      "text/plain": [
       "                   block_id  first_digits  second_digits  third_digits  \\\n",
       "0  blk_-1608999687919862906         81109         203518            35   \n",
       "1  blk_-1608999687919862906         81109         203519            29   \n",
       "2  blk_-1608999687919862906         81109         203519            30   \n",
       "3  blk_-1608999687919862906         81109         203519            31   \n",
       "4  blk_-1608999687919862906         81109         203521            19   \n",
       "5  blk_-1608999687919862906         81109         203521            30   \n",
       "6  blk_-1608999687919862906         81109         203521            34   \n",
       "7  blk_-1608999687919862906         81109         203524            19   \n",
       "8  blk_-1608999687919862906         81109         203526            28   \n",
       "9  blk_-1608999687919862906         81109         203526            29   \n",
       "\n",
       "  message         event_type              block_asterisk add_ver  dru  \\\n",
       "0    INFO  dfs.FSNamesystem:   NameSystem.allocateBlock:     NaN  NaN   \n",
       "1    INFO  dfs.FSNamesystem:  NameSystem.addStoredBlock:     NaN  NaN   \n",
       "2    INFO  dfs.FSNamesystem:  NameSystem.addStoredBlock:     NaN  NaN   \n",
       "3    INFO  dfs.FSNamesystem:  NameSystem.addStoredBlock:     NaN  NaN   \n",
       "4    INFO  dfs.FSNamesystem:                         ask     NaN  NaN   \n",
       "5    INFO  dfs.FSNamesystem:  NameSystem.addStoredBlock:     NaN  NaN   \n",
       "6    INFO  dfs.FSNamesystem:  NameSystem.addStoredBlock:     NaN  NaN   \n",
       "7    INFO  dfs.FSNamesystem:                         ask     NaN  NaN   \n",
       "8    INFO  dfs.FSNamesystem:  NameSystem.addStoredBlock:     NaN  NaN   \n",
       "9    INFO  dfs.FSNamesystem:  NameSystem.addStoredBlock:     NaN  NaN   \n",
       "\n",
       "  trans_fail rrswe cerj pack_rec   Label  \n",
       "0        NaN   NaN  NaN      NaN  Normal  \n",
       "1        NaN   NaN  NaN      NaN  Normal  \n",
       "2        NaN   NaN  NaN      NaN  Normal  \n",
       "3        NaN   NaN  NaN      NaN  Normal  \n",
       "4        NaN   NaN  NaN      NaN  Normal  \n",
       "5        NaN   NaN  NaN      NaN  Normal  \n",
       "6        NaN   NaN  NaN      NaN  Normal  \n",
       "7        NaN   NaN  NaN      NaN  Normal  \n",
       "8        NaN   NaN  NaN      NaN  Normal  \n",
       "9        NaN   NaN  NaN      NaN  Normal  "
      ]
     },
     "execution_count": 33,
     "metadata": {},
     "output_type": "execute_result"
    }
   ],
   "source": [
    "df_full_labelled.head(10)"
   ]
  },
  {
   "cell_type": "markdown",
   "metadata": {},
   "source": [
    "## Converting categorical columns to `categories` instead of `object`"
   ]
  },
  {
   "cell_type": "code",
   "execution_count": 34,
   "metadata": {},
   "outputs": [
    {
     "data": {
      "text/plain": [
       "Index(['block_id', 'first_digits', 'second_digits', 'third_digits', 'message',\n",
       "       'event_type', 'block_asterisk', 'add_ver', 'dru', 'trans_fail', 'rrswe',\n",
       "       'cerj', 'pack_rec', 'Label'],\n",
       "      dtype='object')"
      ]
     },
     "execution_count": 34,
     "metadata": {},
     "output_type": "execute_result"
    }
   ],
   "source": [
    "df_full_labelled.columns"
   ]
  },
  {
   "cell_type": "code",
   "execution_count": 35,
   "metadata": {},
   "outputs": [],
   "source": [
    "df_full_labelled['message'] = df_full_labelled['message'].astype('category')\n",
    "df_full_labelled['event_type'] = df_full_labelled['event_type'].astype('category')\n",
    "df_full_labelled['block_asterisk'] = df_full_labelled['block_asterisk'].astype('category')\n",
    "df_full_labelled['add_ver'] = df_full_labelled['add_ver'].astype('category')\n",
    "df_full_labelled['dru'] = df_full_labelled['dru'].astype('category')\n",
    "df_full_labelled['trans_fail'] = df_full_labelled['trans_fail'].astype('category')\n",
    "df_full_labelled['rrswe'] = df_full_labelled['rrswe'].astype('category')\n",
    "df_full_labelled['cerj'] = df_full_labelled['cerj'].astype('category')\n",
    "df_full_labelled['pack_rec'] = df_full_labelled['pack_rec'].astype('category')\n",
    "df_full_labelled['Label'] = df_full_labelled['Label'].astype('category')"
   ]
  },
  {
   "cell_type": "code",
   "execution_count": 41,
   "metadata": {},
   "outputs": [],
   "source": [
    "df_full_labelled.to_csv(\"C:\\\\Users\\conno\\MDS-labs\\data586\\Project\\labelled.csv\")"
   ]
  },
  {
   "cell_type": "code",
   "execution_count": 17,
   "metadata": {},
   "outputs": [],
   "source": [
    "df_full_labelled['message'] = df_full_labelled['message'].cat.codes\n",
    "df_full_labelled['event_type'] = df_full_labelled['event_type'].cat.codes\n",
    "df_full_labelled['block_asterisk'] = df_full_labelled['block_asterisk'].cat.codes\n",
    "df_full_labelled['add_ver'] = df_full_labelled['add_ver'].cat.codes\n",
    "df_full_labelled['dru'] = df_full_labelled['dru'].cat.codes\n",
    "df_full_labelled['trans_fail'] = df_full_labelled['trans_fail'].cat.codes\n",
    "df_full_labelled['rrswe'] = df_full_labelled['rrswe'].cat.codes\n",
    "df_full_labelled['cerj'] = df_full_labelled['cerj'].cat.codes\n",
    "df_full_labelled['pack_rec'] = df_full_labelled['pack_rec'].cat.codes\n",
    "df_full_labelled['Label'] = df_full_labelled['Label'].cat.codes"
   ]
  },
  {
   "cell_type": "code",
   "execution_count": 18,
   "metadata": {},
   "outputs": [
    {
     "data": {
      "text/html": [
       "<div>\n",
       "<style scoped>\n",
       "    .dataframe tbody tr th:only-of-type {\n",
       "        vertical-align: middle;\n",
       "    }\n",
       "\n",
       "    .dataframe tbody tr th {\n",
       "        vertical-align: top;\n",
       "    }\n",
       "\n",
       "    .dataframe thead th {\n",
       "        text-align: right;\n",
       "    }\n",
       "</style>\n",
       "<table border=\"1\" class=\"dataframe\">\n",
       "  <thead>\n",
       "    <tr style=\"text-align: right;\">\n",
       "      <th></th>\n",
       "      <th>block_id</th>\n",
       "      <th>first_digits</th>\n",
       "      <th>second_digits</th>\n",
       "      <th>third_digits</th>\n",
       "      <th>message</th>\n",
       "      <th>event_type</th>\n",
       "      <th>block_asterisk</th>\n",
       "      <th>add_ver</th>\n",
       "      <th>dru</th>\n",
       "      <th>trans_fail</th>\n",
       "      <th>rrswe</th>\n",
       "      <th>cerj</th>\n",
       "      <th>pack_rec</th>\n",
       "      <th>Label</th>\n",
       "    </tr>\n",
       "  </thead>\n",
       "  <tbody>\n",
       "    <tr>\n",
       "      <th>0</th>\n",
       "      <td>blk_-1608999687919862906</td>\n",
       "      <td>81109</td>\n",
       "      <td>203518</td>\n",
       "      <td>35</td>\n",
       "      <td>0</td>\n",
       "      <td>7</td>\n",
       "      <td>1</td>\n",
       "      <td>-1</td>\n",
       "      <td>-1</td>\n",
       "      <td>-1</td>\n",
       "      <td>-1</td>\n",
       "      <td>-1</td>\n",
       "      <td>-1</td>\n",
       "      <td>1</td>\n",
       "    </tr>\n",
       "    <tr>\n",
       "      <th>1</th>\n",
       "      <td>blk_-1608999687919862906</td>\n",
       "      <td>81109</td>\n",
       "      <td>203519</td>\n",
       "      <td>29</td>\n",
       "      <td>0</td>\n",
       "      <td>7</td>\n",
       "      <td>0</td>\n",
       "      <td>-1</td>\n",
       "      <td>-1</td>\n",
       "      <td>-1</td>\n",
       "      <td>-1</td>\n",
       "      <td>-1</td>\n",
       "      <td>-1</td>\n",
       "      <td>1</td>\n",
       "    </tr>\n",
       "    <tr>\n",
       "      <th>2</th>\n",
       "      <td>blk_-1608999687919862906</td>\n",
       "      <td>81109</td>\n",
       "      <td>203519</td>\n",
       "      <td>30</td>\n",
       "      <td>0</td>\n",
       "      <td>7</td>\n",
       "      <td>0</td>\n",
       "      <td>-1</td>\n",
       "      <td>-1</td>\n",
       "      <td>-1</td>\n",
       "      <td>-1</td>\n",
       "      <td>-1</td>\n",
       "      <td>-1</td>\n",
       "      <td>1</td>\n",
       "    </tr>\n",
       "    <tr>\n",
       "      <th>3</th>\n",
       "      <td>blk_-1608999687919862906</td>\n",
       "      <td>81109</td>\n",
       "      <td>203519</td>\n",
       "      <td>31</td>\n",
       "      <td>0</td>\n",
       "      <td>7</td>\n",
       "      <td>0</td>\n",
       "      <td>-1</td>\n",
       "      <td>-1</td>\n",
       "      <td>-1</td>\n",
       "      <td>-1</td>\n",
       "      <td>-1</td>\n",
       "      <td>-1</td>\n",
       "      <td>1</td>\n",
       "    </tr>\n",
       "    <tr>\n",
       "      <th>4</th>\n",
       "      <td>blk_-1608999687919862906</td>\n",
       "      <td>81109</td>\n",
       "      <td>203521</td>\n",
       "      <td>19</td>\n",
       "      <td>0</td>\n",
       "      <td>7</td>\n",
       "      <td>4</td>\n",
       "      <td>-1</td>\n",
       "      <td>-1</td>\n",
       "      <td>-1</td>\n",
       "      <td>-1</td>\n",
       "      <td>-1</td>\n",
       "      <td>-1</td>\n",
       "      <td>1</td>\n",
       "    </tr>\n",
       "  </tbody>\n",
       "</table>\n",
       "</div>"
      ],
      "text/plain": [
       "                   block_id  first_digits  second_digits  third_digits  \\\n",
       "0  blk_-1608999687919862906         81109         203518            35   \n",
       "1  blk_-1608999687919862906         81109         203519            29   \n",
       "2  blk_-1608999687919862906         81109         203519            30   \n",
       "3  blk_-1608999687919862906         81109         203519            31   \n",
       "4  blk_-1608999687919862906         81109         203521            19   \n",
       "\n",
       "   message  event_type  block_asterisk  add_ver  dru  trans_fail  rrswe  cerj  \\\n",
       "0        0           7               1       -1   -1          -1     -1    -1   \n",
       "1        0           7               0       -1   -1          -1     -1    -1   \n",
       "2        0           7               0       -1   -1          -1     -1    -1   \n",
       "3        0           7               0       -1   -1          -1     -1    -1   \n",
       "4        0           7               4       -1   -1          -1     -1    -1   \n",
       "\n",
       "   pack_rec  Label  \n",
       "0        -1      1  \n",
       "1        -1      1  \n",
       "2        -1      1  \n",
       "3        -1      1  \n",
       "4        -1      1  "
      ]
     },
     "execution_count": 18,
     "metadata": {},
     "output_type": "execute_result"
    }
   ],
   "source": [
    "df_full_labelled.head()"
   ]
  },
  {
   "cell_type": "code",
   "execution_count": 19,
   "metadata": {},
   "outputs": [],
   "source": [
    "df_full_labelled.to_csv(\"C:\\\\Users\\conno\\MDS-labs\\data586\\Project\\encoded_labelled.csv\")"
   ]
  },
  {
   "cell_type": "code",
   "execution_count": null,
   "metadata": {},
   "outputs": [],
   "source": []
  }
 ],
 "metadata": {
  "kernelspec": {
   "display_name": "Python 3",
   "language": "python",
   "name": "python3"
  },
  "language_info": {
   "codemirror_mode": {
    "name": "ipython",
    "version": 3
   },
   "file_extension": ".py",
   "mimetype": "text/x-python",
   "name": "python",
   "nbconvert_exporter": "python",
   "pygments_lexer": "ipython3",
   "version": "3.8.3"
  }
 },
 "nbformat": 4,
 "nbformat_minor": 4
}
