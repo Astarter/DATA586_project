{
 "metadata": {
  "language_info": {
   "codemirror_mode": {
    "name": "ipython",
    "version": 3
   },
   "file_extension": ".py",
   "mimetype": "text/x-python",
   "name": "python",
   "nbconvert_exporter": "python",
   "pygments_lexer": "ipython3",
   "version": "3.8.3"
  },
  "orig_nbformat": 2,
  "kernelspec": {
   "name": "python383jvsc74a57bd06daf48744f4ce44b71572c0f8f2a6fb897741990605a7e8599d08bee668bbd40",
   "display_name": "Python 3.8.3 64-bit (conda)"
  }
 },
 "nbformat": 4,
 "nbformat_minor": 2,
 "cells": [
  {
   "cell_type": "code",
   "execution_count": 1,
   "metadata": {},
   "outputs": [],
   "source": [
    "import re\n",
    "import pandas as pd"
   ]
  },
  {
   "cell_type": "code",
   "execution_count": 2,
   "metadata": {},
   "outputs": [],
   "source": [
    "file = \"HDFS.log\""
   ]
  },
  {
   "cell_type": "code",
   "execution_count": 3,
   "metadata": {},
   "outputs": [],
   "source": [
    "hdfs = open(file, \"r\")"
   ]
  },
  {
   "cell_type": "code",
   "execution_count": 4,
   "metadata": {},
   "outputs": [],
   "source": [
    "hdfs_list = hdfs.readlines()"
   ]
  },
  {
   "cell_type": "code",
   "execution_count": 5,
   "metadata": {
    "tags": []
   },
   "outputs": [],
   "source": [
    "#for i in range(1,100):\n",
    "    #print(hdfs_list[i])"
   ]
  },
  {
   "source": [
    "## Total Number of log entries"
   ],
   "cell_type": "markdown",
   "metadata": {}
  },
  {
   "cell_type": "code",
   "execution_count": 6,
   "metadata": {},
   "outputs": [
    {
     "output_type": "execute_result",
     "data": {
      "text/plain": [
       "11175629"
      ]
     },
     "metadata": {},
     "execution_count": 6
    }
   ],
   "source": [
    "len(hdfs_list)"
   ]
  },
  {
   "source": [
    "Here is an example of a log event from the HDFS log file and this shows what the event contains.\n",
    "\n",
    "![log event breakdown](event_breakdown.png)"
   ],
   "cell_type": "markdown",
   "metadata": {}
  },
  {
   "source": [
    "## Unique values for first 6 numerical digits (date)\n",
    "\n",
    "This looks like the dates of the events. Date doesn't seem like it will help with finding anomolies if we have many entries at each date."
   ],
   "cell_type": "markdown",
   "metadata": {}
  },
  {
   "cell_type": "code",
   "execution_count": 7,
   "metadata": {},
   "outputs": [],
   "source": [
    "first_six = []\n",
    "for i in hdfs_list:\n",
    "    match = re.findall('^[0-9]{6}', i)\n",
    "    match = match[0]\n",
    "    first_six.append(match)"
   ]
  },
  {
   "cell_type": "code",
   "execution_count": 8,
   "metadata": {},
   "outputs": [
    {
     "output_type": "stream",
     "name": "stdout",
     "text": [
      "['081109', '081110', '081111']\n"
     ]
    },
    {
     "output_type": "execute_result",
     "data": {
      "text/plain": [
       "11175629"
      ]
     },
     "metadata": {},
     "execution_count": 8
    }
   ],
   "source": [
    "unique_first_six = list(set(first_six))\n",
    "print(unique_first_six)\n",
    "len(first_six)"
   ]
  },
  {
   "source": [
    "## Unique values for second 6 numerical digits (time?)\n",
    "\n",
    "It looks like there are tons of different values here, so this probably won't be significant in determining anomolies and we may not want it include it in our model. "
   ],
   "cell_type": "markdown",
   "metadata": {}
  },
  {
   "cell_type": "code",
   "execution_count": 9,
   "metadata": {},
   "outputs": [],
   "source": [
    "second_six = []\n",
    "for i in hdfs_list:\n",
    "    match = re.findall('^[0-9]{6} ([0-9]{6})', i)\n",
    "    match = match[0]\n",
    "    second_six.append(match)"
   ]
  },
  {
   "cell_type": "code",
   "execution_count": 10,
   "metadata": {},
   "outputs": [
    {
     "output_type": "stream",
     "name": "stdout",
     "text": [
      "85053\n"
     ]
    },
    {
     "output_type": "execute_result",
     "data": {
      "text/plain": [
       "11175629"
      ]
     },
     "metadata": {},
     "execution_count": 10
    }
   ],
   "source": [
    "unique_second_six = list(set(second_six))\n",
    "print(len(unique_second_six))\n",
    "len(second_six)"
   ]
  },
  {
   "source": [
    "## Unique values for third number (code)\n",
    "\n",
    "There are a lot of different codes here. We will have to count through these to see if there are any that are rare. \n",
    "\n",
    "We may want to convert these to integers."
   ],
   "cell_type": "markdown",
   "metadata": {}
  },
  {
   "cell_type": "code",
   "execution_count": 11,
   "metadata": {},
   "outputs": [],
   "source": [
    "third_num = []\n",
    "for i in hdfs_list:\n",
    "    match = re.findall('^[0-9]{6} [0-9]{6} (\\d*) ', i)\n",
    "    match = match[0]\n",
    "    third_num.append(match)"
   ]
  },
  {
   "cell_type": "code",
   "execution_count": 12,
   "metadata": {},
   "outputs": [
    {
     "output_type": "stream",
     "name": "stdout",
     "text": [
      "27799\n"
     ]
    },
    {
     "output_type": "execute_result",
     "data": {
      "text/plain": [
       "11175629"
      ]
     },
     "metadata": {},
     "execution_count": 12
    }
   ],
   "source": [
    "unique_third_num = list(set(third_num))\n",
    "print(len(unique_third_num))\n",
    "len(third_num)"
   ]
  },
  {
   "source": [
    "## Unique values for first text statement (message)"
   ],
   "cell_type": "markdown",
   "metadata": {}
  },
  {
   "cell_type": "code",
   "execution_count": 13,
   "metadata": {},
   "outputs": [],
   "source": [
    "caps = []\n",
    "for i in hdfs_list:\n",
    "    match = re.findall(' ([A-Z][A-Z][A-Z][A-Z]) ', i)\n",
    "    match = match[0]\n",
    "    caps.append(match)"
   ]
  },
  {
   "cell_type": "code",
   "execution_count": 14,
   "metadata": {},
   "outputs": [
    {
     "output_type": "stream",
     "name": "stdout",
     "text": [
      "['WARN', 'INFO']\n11175629\n"
     ]
    }
   ],
   "source": [
    "unique_caps = list(set(caps))\n",
    "print(unique_caps)\n",
    "print(len(caps))"
   ]
  },
  {
   "source": [
    "## Unique values for \"dfs....:\" statement (event type)\n",
    "\n",
    "There are only 9 of these codes. These may be important for finding anomolies.\n",
    "\n",
    "I think we could make a dataframe for each of these 9 codes, then we can find the specific information that are in each one. "
   ],
   "cell_type": "markdown",
   "metadata": {}
  },
  {
   "cell_type": "code",
   "execution_count": 15,
   "metadata": {},
   "outputs": [],
   "source": [
    "dfs = []\n",
    "for i in hdfs_list:\n",
    "    match = re.findall('dfs\\.\\S*:', i)\n",
    "    match = match[0]\n",
    "    dfs.append(match)"
   ]
  },
  {
   "cell_type": "code",
   "execution_count": 16,
   "metadata": {},
   "outputs": [
    {
     "output_type": "stream",
     "name": "stdout",
     "text": [
      "9\n['dfs.DataNode:', 'dfs.PendingReplicationBlocks$PendingReplicationMonitor:', 'dfs.DataNode$BlockReceiver:', 'dfs.FSNamesystem:', 'dfs.DataNode$DataXceiver:', 'dfs.DataBlockScanner:', 'dfs.FSDataset:', 'dfs.DataNode$DataTransfer:', 'dfs.DataNode$PacketResponder:']\n11175629\n"
     ]
    }
   ],
   "source": [
    "unique_dfs = list(set(dfs))\n",
    "print(len(unique_dfs))\n",
    "print(unique_dfs)\n",
    "print(len(dfs))"
   ]
  },
  {
   "source": [
    "## Labels information\n",
    "\n",
    "It looks like the blocks are labelled, and each log entry contains at least one block. It looks like we will have to somehow find out which blocks are anomolies and which ones are normal. \n",
    "\n",
    "When do we determine if a block is normal or an anomoly?\n",
    "\n",
    "Blocks must be in more than one event (there are a lot more events than anomoly labels), so are we finding events that are anomolies? Or blocks that are anomolies?"
   ],
   "cell_type": "markdown",
   "metadata": {}
  },
  {
   "cell_type": "code",
   "execution_count": 17,
   "metadata": {},
   "outputs": [],
   "source": [
    "labels = pd.read_csv(\"anomaly_label.csv\")"
   ]
  },
  {
   "cell_type": "code",
   "execution_count": 18,
   "metadata": {},
   "outputs": [
    {
     "output_type": "execute_result",
     "data": {
      "text/plain": [
       "                    BlockId    Label\n",
       "0  blk_-1608999687919862906   Normal\n",
       "1   blk_7503483334202473044   Normal\n",
       "2  blk_-3544583377289625738  Anomaly\n",
       "3  blk_-9073992586687739851   Normal\n",
       "4   blk_7854771516489510256   Normal"
      ],
      "text/html": "<div>\n<style scoped>\n    .dataframe tbody tr th:only-of-type {\n        vertical-align: middle;\n    }\n\n    .dataframe tbody tr th {\n        vertical-align: top;\n    }\n\n    .dataframe thead th {\n        text-align: right;\n    }\n</style>\n<table border=\"1\" class=\"dataframe\">\n  <thead>\n    <tr style=\"text-align: right;\">\n      <th></th>\n      <th>BlockId</th>\n      <th>Label</th>\n    </tr>\n  </thead>\n  <tbody>\n    <tr>\n      <th>0</th>\n      <td>blk_-1608999687919862906</td>\n      <td>Normal</td>\n    </tr>\n    <tr>\n      <th>1</th>\n      <td>blk_7503483334202473044</td>\n      <td>Normal</td>\n    </tr>\n    <tr>\n      <th>2</th>\n      <td>blk_-3544583377289625738</td>\n      <td>Anomaly</td>\n    </tr>\n    <tr>\n      <th>3</th>\n      <td>blk_-9073992586687739851</td>\n      <td>Normal</td>\n    </tr>\n    <tr>\n      <th>4</th>\n      <td>blk_7854771516489510256</td>\n      <td>Normal</td>\n    </tr>\n  </tbody>\n</table>\n</div>"
     },
     "metadata": {},
     "execution_count": 18
    }
   ],
   "source": [
    "labels.head()"
   ]
  },
  {
   "cell_type": "code",
   "execution_count": 19,
   "metadata": {},
   "outputs": [],
   "source": [
    "num_anomaly = sum(labels['Label'] == \"Anomaly\")"
   ]
  },
  {
   "cell_type": "code",
   "execution_count": 20,
   "metadata": {},
   "outputs": [],
   "source": [
    "num_normal = sum(labels['Label'] == \"Normal\")"
   ]
  },
  {
   "cell_type": "code",
   "execution_count": 21,
   "metadata": {},
   "outputs": [
    {
     "output_type": "execute_result",
     "data": {
      "text/plain": [
       "0.030163572622410758"
      ]
     },
     "metadata": {},
     "execution_count": 21
    }
   ],
   "source": [
    "num_anomaly/num_normal"
   ]
  },
  {
   "cell_type": "code",
   "execution_count": 22,
   "metadata": {},
   "outputs": [
    {
     "output_type": "stream",
     "name": "stdout",
     "text": [
      "<class 'pandas.core.frame.DataFrame'>\nRangeIndex: 575061 entries, 0 to 575060\nData columns (total 2 columns):\n #   Column   Non-Null Count   Dtype \n---  ------   --------------   ----- \n 0   BlockId  575061 non-null  object\n 1   Label    575061 non-null  object\ndtypes: object(2)\nmemory usage: 8.8+ MB\n"
     ]
    }
   ],
   "source": [
    "labels.info()"
   ]
  },
  {
   "source": [
    "## Finding the events with more than one block named in it:"
   ],
   "cell_type": "markdown",
   "metadata": {}
  },
  {
   "source": [
    "This cells shows how many events mention more than one block in it. We can see that there are 1402056 events that mention more than one block. This doesn't check if the multiple blocks mentioned are identical to each other or not. "
   ],
   "cell_type": "markdown",
   "metadata": {}
  },
  {
   "cell_type": "code",
   "execution_count": 23,
   "metadata": {},
   "outputs": [],
   "source": [
    "multiple_blocks_test = []\n",
    "for i in hdfs_list:\n",
    "    match = re.findall('blk_\\S*', i)\n",
    "    if len(match) > 1:\n",
    "        multiple_blocks_test.append(match)"
   ]
  },
  {
   "cell_type": "code",
   "execution_count": 24,
   "metadata": {},
   "outputs": [
    {
     "output_type": "execute_result",
     "data": {
      "text/plain": [
       "1402056"
      ]
     },
     "metadata": {},
     "execution_count": 24
    }
   ],
   "source": [
    "len(multiple_blocks_test)"
   ]
  },
  {
   "cell_type": "code",
   "execution_count": 25,
   "metadata": {},
   "outputs": [
    {
     "output_type": "execute_result",
     "data": {
      "text/plain": [
       "[['blk_-6899869435641005946', 'blk_-6899869435641005946'],\n",
       " ['blk_-8191677345482862686', 'blk_-8191677345482862686'],\n",
       " ['blk_-919439116365725304', 'blk_-919439116365725304'],\n",
       " ['blk_3557914126063085372', 'blk_3557914126063085372'],\n",
       " ['blk_3584224065406961324', 'blk_3584224065406961324'],\n",
       " ['blk_349284099419601276', 'blk_349284099419601276'],\n",
       " ['blk_-7057732666118938934', 'blk_-7057732666118938934'],\n",
       " ['blk_-5410886886439711883', 'blk_-5410886886439711883'],\n",
       " ['blk_-6739860488313725269', 'blk_-6739860488313725269']]"
      ]
     },
     "metadata": {},
     "execution_count": 25
    }
   ],
   "source": [
    "multiple_blocks_test[1:10]"
   ]
  },
  {
   "source": [
    "We can see from the cell above that the when multiple blocks are mentioned, it looks like they are duplicates. \n",
    "\n",
    "In the cell below we will check how many events that mention more than one block actually mention different unique blocks. We can see that there are no lines that mention more than one unique block, so we can focus on only the first block that is mentioned in each event (since any additional blocks mentioned are the same as the first one)."
   ],
   "cell_type": "markdown",
   "metadata": {}
  },
  {
   "cell_type": "code",
   "execution_count": 26,
   "metadata": {},
   "outputs": [],
   "source": [
    "multiple_blocks = []\n",
    "for i in hdfs_list:\n",
    "    match = re.findall('blk_\\S*', i)\n",
    "    if len(match) > 1:\n",
    "        holder = 0\n",
    "        first = match[0]\n",
    "        for x in match:\n",
    "            if x != first:\n",
    "                holder = 1\n",
    "        if holder == 1:\n",
    "            multiple_blocks.append(i)"
   ]
  },
  {
   "cell_type": "code",
   "execution_count": 27,
   "metadata": {},
   "outputs": [
    {
     "output_type": "execute_result",
     "data": {
      "text/plain": [
       "0"
      ]
     },
     "metadata": {},
     "execution_count": 27
    }
   ],
   "source": [
    "len(multiple_blocks)"
   ]
  },
  {
   "source": [
    "## Determining the number of unique blocks mentioned in this entire HDFS file (block id's):"
   ],
   "cell_type": "markdown",
   "metadata": {}
  },
  {
   "cell_type": "code",
   "execution_count": 28,
   "metadata": {},
   "outputs": [],
   "source": [
    "blocks = []\n",
    "for i in hdfs_list:\n",
    "    match = re.findall('blk_\\S*', i)\n",
    "    match = match[0]\n",
    "    blocks.append(match)"
   ]
  },
  {
   "cell_type": "code",
   "execution_count": 29,
   "metadata": {},
   "outputs": [
    {
     "output_type": "stream",
     "name": "stdout",
     "text": [
      "11175629\n580406\n575061\n"
     ]
    }
   ],
   "source": [
    "unique_blocks = list(set(blocks))\n",
    "print(len(blocks))\n",
    "print(len(unique_blocks))\n",
    "print(len(labels))"
   ]
  },
  {
   "source": [
    "We can see from the cell above that the number of unique blocks in the HDFS file is within about 5000 of the number of labelled blocks in the `anomaly_label.csv` file."
   ],
   "cell_type": "markdown",
   "metadata": {}
  },
  {
   "source": [
    "## Planned data wrangling:\n",
    "- Determine how many blocks have each attribute (how many INFO vs. WARN, how many of each event type, how many with each numerical code)\n",
    "- Onehot encode the block logs event details for each type of log event (start with 9 dataframes)\n",
    "- Combine the 9 dataframes using the block ID's to get one large dataframe with the following structure:\n",
    "\n",
    "![blocks_df](blocks_df.png)"
   ],
   "cell_type": "markdown",
   "metadata": {}
  },
  {
   "cell_type": "code",
   "execution_count": 30,
   "metadata": {},
   "outputs": [
    {
     "output_type": "execute_result",
     "data": {
      "text/plain": [
       "['dfs.DataNode:',\n",
       " 'dfs.PendingReplicationBlocks$PendingReplicationMonitor:',\n",
       " 'dfs.DataNode$BlockReceiver:',\n",
       " 'dfs.FSNamesystem:',\n",
       " 'dfs.DataNode$DataXceiver:',\n",
       " 'dfs.DataBlockScanner:',\n",
       " 'dfs.FSDataset:',\n",
       " 'dfs.DataNode$DataTransfer:',\n",
       " 'dfs.DataNode$PacketResponder:']"
      ]
     },
     "metadata": {},
     "execution_count": 30
    }
   ],
   "source": [
    "unique_dfs"
   ]
  },
  {
   "source": [
    "## Creating a list of \"dfs.FSNamesystem:\" events"
   ],
   "cell_type": "markdown",
   "metadata": {}
  },
  {
   "cell_type": "code",
   "execution_count": 31,
   "metadata": {},
   "outputs": [],
   "source": [
    "df_0_list = []\n",
    "for i in hdfs_list:\n",
    "    match = 'dfs.FSNamesystem:'\n",
    "    if match in i:\n",
    "        df_0_list.append(i)"
   ]
  },
  {
   "cell_type": "code",
   "execution_count": 32,
   "metadata": {},
   "outputs": [
    {
     "output_type": "execute_result",
     "data": {
      "text/plain": [
       "3700245"
      ]
     },
     "metadata": {},
     "execution_count": 32
    }
   ],
   "source": [
    "# number of \"dfs.FSNamesystem:\" events\n",
    "len(df_0_list)"
   ]
  },
  {
   "source": [
    "## Creating a list of \"dfs.DataBlockScanner:\" events"
   ],
   "cell_type": "markdown",
   "metadata": {}
  },
  {
   "cell_type": "code",
   "execution_count": 33,
   "metadata": {},
   "outputs": [],
   "source": [
    "df_1_list = []\n",
    "for i in hdfs_list:\n",
    "    match = 'dfs.DataBlockScanner:'\n",
    "    if match in i:\n",
    "        df_1_list.append(i)"
   ]
  },
  {
   "cell_type": "code",
   "execution_count": 34,
   "metadata": {},
   "outputs": [
    {
     "output_type": "execute_result",
     "data": {
      "text/plain": [
       "120046"
      ]
     },
     "metadata": {},
     "execution_count": 34
    }
   ],
   "source": [
    "len(df_1_list)"
   ]
  },
  {
   "source": [
    "## Creating a list of \"dfs.FSDataset:\" events"
   ],
   "cell_type": "markdown",
   "metadata": {}
  },
  {
   "cell_type": "code",
   "execution_count": 35,
   "metadata": {},
   "outputs": [
    {
     "output_type": "execute_result",
     "data": {
      "text/plain": [
       "1407597"
      ]
     },
     "metadata": {},
     "execution_count": 35
    }
   ],
   "source": [
    "df_2_list = []\n",
    "for i in hdfs_list:\n",
    "    match = 'dfs.FSDataset:'\n",
    "    if match in i:\n",
    "        df_2_list.append(i)\n",
    "\n",
    "len(df_2_list)"
   ]
  },
  {
   "source": [
    "## Creating a list of \"dfs.PendingReplicationBlocks$PendingReplicationMonitor:\" events"
   ],
   "cell_type": "markdown",
   "metadata": {}
  },
  {
   "cell_type": "code",
   "execution_count": 36,
   "metadata": {},
   "outputs": [
    {
     "output_type": "execute_result",
     "data": {
      "text/plain": [
       "47"
      ]
     },
     "metadata": {},
     "execution_count": 36
    }
   ],
   "source": [
    "df_3_list = []\n",
    "for i in hdfs_list:\n",
    "    match = 'dfs.PendingReplicationBlocks$PendingReplicationMonitor:'\n",
    "    if match in i:\n",
    "        df_3_list.append(i)\n",
    "\n",
    "len(df_3_list)"
   ]
  },
  {
   "source": [
    "## Creating a list of \"dfs.DataNode$DataTransfer:\" events"
   ],
   "cell_type": "markdown",
   "metadata": {}
  },
  {
   "cell_type": "code",
   "execution_count": 37,
   "metadata": {},
   "outputs": [
    {
     "output_type": "execute_result",
     "data": {
      "text/plain": [
       "6946"
      ]
     },
     "metadata": {},
     "execution_count": 37
    }
   ],
   "source": [
    "df_4_list = []\n",
    "for i in hdfs_list:\n",
    "    match = 'dfs.DataNode$DataTransfer:'\n",
    "    if match in i:\n",
    "        df_4_list.append(i)\n",
    "\n",
    "len(df_4_list)"
   ]
  },
  {
   "source": [
    "## Creating a list of \"dfs.DataNode:\" events"
   ],
   "cell_type": "markdown",
   "metadata": {}
  },
  {
   "cell_type": "code",
   "execution_count": 38,
   "metadata": {},
   "outputs": [
    {
     "output_type": "execute_result",
     "data": {
      "text/plain": [
       "7002"
      ]
     },
     "metadata": {},
     "execution_count": 38
    }
   ],
   "source": [
    "df_5_list = []\n",
    "for i in hdfs_list:\n",
    "    match = 'dfs.DataNode:'\n",
    "    if match in i:\n",
    "        df_5_list.append(i)\n",
    "\n",
    "len(df_5_list)"
   ]
  },
  {
   "source": [
    "## Creating a list of \"dfs.DataNode$DataXceiver:\" events"
   ],
   "cell_type": "markdown",
   "metadata": {}
  },
  {
   "cell_type": "code",
   "execution_count": 39,
   "metadata": {},
   "outputs": [
    {
     "output_type": "execute_result",
     "data": {
      "text/plain": [
       "2518678"
      ]
     },
     "metadata": {},
     "execution_count": 39
    }
   ],
   "source": [
    "df_6_list = []\n",
    "for i in hdfs_list:\n",
    "    match = 'dfs.DataNode$DataXceiver:'\n",
    "    if match in i:\n",
    "        df_6_list.append(i)\n",
    "\n",
    "len(df_6_list)"
   ]
  },
  {
   "source": [
    "## Create a list of \"dfs.DataNode$BlockReceiver:\" events"
   ],
   "cell_type": "markdown",
   "metadata": {}
  },
  {
   "cell_type": "code",
   "execution_count": 40,
   "metadata": {},
   "outputs": [
    {
     "output_type": "execute_result",
     "data": {
      "text/plain": [
       "1718"
      ]
     },
     "metadata": {},
     "execution_count": 40
    }
   ],
   "source": [
    "df_7_list = []\n",
    "for i in hdfs_list:\n",
    "    match = 'dfs.DataNode$BlockReceiver:'\n",
    "    if match in i:\n",
    "        df_7_list.append(i)\n",
    "\n",
    "len(df_7_list)"
   ]
  },
  {
   "source": [
    "## Create a list of \"dfs.DataNode$PacketResponder:\" events"
   ],
   "cell_type": "markdown",
   "metadata": {}
  },
  {
   "cell_type": "code",
   "execution_count": 41,
   "metadata": {},
   "outputs": [
    {
     "output_type": "execute_result",
     "data": {
      "text/plain": [
       "3413350"
      ]
     },
     "metadata": {},
     "execution_count": 41
    }
   ],
   "source": [
    "df_8_list = []\n",
    "for i in hdfs_list:\n",
    "    match = 'dfs.DataNode$PacketResponder:'\n",
    "    if match in i:\n",
    "        df_8_list.append(i)\n",
    "\n",
    "len(df_8_list)"
   ]
  },
  {
   "cell_type": "code",
   "execution_count": 42,
   "metadata": {},
   "outputs": [
    {
     "output_type": "execute_result",
     "data": {
      "text/plain": [
       "11175629"
      ]
     },
     "metadata": {},
     "execution_count": 42
    }
   ],
   "source": [
    "# verify that length of 9 lists is the same as the log file of events. \n",
    "len(df_0_list) + len(df_1_list) + len(df_2_list) + len(df_3_list) + len(df_4_list) + len(df_5_list) + len(df_6_list) + len(df_7_list) + len(df_8_list)"
   ]
  },
  {
   "cell_type": "code",
   "execution_count": 43,
   "metadata": {},
   "outputs": [
    {
     "output_type": "execute_result",
     "data": {
      "text/plain": [
       "11175629"
      ]
     },
     "metadata": {},
     "execution_count": 43
    }
   ],
   "source": [
    "len(hdfs_list)"
   ]
  },
  {
   "source": [
    "## Create the number first dataframe of the first type of event"
   ],
   "cell_type": "markdown",
   "metadata": {}
  },
  {
   "cell_type": "code",
   "execution_count": 44,
   "metadata": {},
   "outputs": [
    {
     "output_type": "execute_result",
     "data": {
      "text/plain": [
       "3700245"
      ]
     },
     "metadata": {},
     "execution_count": 44
    }
   ],
   "source": [
    "#df_0_list[0]\n",
    "len(df_0_list)"
   ]
  },
  {
   "source": [
    "The columns for this event will be:\n",
    "- first 6 digits (date)\n",
    "- second 6 digits\n",
    "- third set of numerical digits\n",
    "- INFO/WARN\n",
    "- dfs.... (event type)\n",
    "- block_id\n",
    "- Block_asterisk\n"
   ],
   "cell_type": "markdown",
   "metadata": {}
  },
  {
   "cell_type": "code",
   "execution_count": 45,
   "metadata": {},
   "outputs": [],
   "source": [
    "word_count_0 = {}\n",
    "for i in df_0_list:\n",
    "    words = i.split()\n",
    "    for word in words:\n",
    "        if word in word_count_0:\n",
    "            word_count_0[word] += 1\n",
    "        else:\n",
    "            word_count_0[word] = 1\n",
    "\n",
    "#word_count_0"
   ]
  },
  {
   "cell_type": "code",
   "execution_count": 46,
   "metadata": {},
   "outputs": [
    {
     "output_type": "execute_result",
     "data": {
      "text/plain": [
       "0.0002634960658010483"
      ]
     },
     "metadata": {},
     "execution_count": 46
    }
   ],
   "source": [
    "word_count_0['WARN']/len(df_0_list)"
   ]
  },
  {
   "cell_type": "code",
   "execution_count": 47,
   "metadata": {},
   "outputs": [
    {
     "output_type": "stream",
     "name": "stdout",
     "text": [
      "dfs.FSNamesystem:\nBLOCK*\n"
     ]
    }
   ],
   "source": [
    "# Words that show up in every event of this type\n",
    "for key in word_count_0:\n",
    "    if word_count_0[key] == len(df_0_list):\n",
    "        print(key)"
   ]
  },
  {
   "cell_type": "code",
   "execution_count": 48,
   "metadata": {},
   "outputs": [],
   "source": [
    "# Creating a list of the different *Block type of events from df_0_list\n",
    "df_0_blocks_asterisk= []\n",
    "removing = []\n",
    "ask = []\n",
    "for i in df_0_list:\n",
    "    match = re.findall('BLOCK\\* (\\S*)', i)\n",
    "    if len(match) >= 1:\n",
    "        match = match[0]\n",
    "        df_0_blocks_asterisk.append(match)\n"
   ]
  },
  {
   "cell_type": "code",
   "execution_count": 49,
   "metadata": {},
   "outputs": [
    {
     "output_type": "execute_result",
     "data": {
      "text/plain": [
       "{'NameSystem.addStoredBlock:',\n",
       " 'NameSystem.allocateBlock:',\n",
       " 'NameSystem.delete:',\n",
       " 'Removing',\n",
       " 'ask'}"
      ]
     },
     "metadata": {},
     "execution_count": 49
    }
   ],
   "source": [
    "#unique_blocks_asterisk = list(set(df_0_blocks_asterisk))\n",
    "#unique_blocks_asterisk\n",
    "set(df_0_blocks_asterisk)"
   ]
  },
  {
   "source": [
    "# Create lists of all the columns in the df_0 dataframe"
   ],
   "cell_type": "markdown",
   "metadata": {}
  },
  {
   "cell_type": "code",
   "execution_count": 50,
   "metadata": {},
   "outputs": [
    {
     "output_type": "execute_result",
     "data": {
      "text/plain": [
       "3700245"
      ]
     },
     "metadata": {},
     "execution_count": 50
    }
   ],
   "source": [
    "df_0_block_id = []\n",
    "for i in df_0_list:\n",
    "    match = re.findall('blk_\\S*', i)\n",
    "    match = match[0]\n",
    "    df_0_block_id.append(match)\n",
    "len(df_0_block_id)"
   ]
  },
  {
   "cell_type": "code",
   "execution_count": 51,
   "metadata": {},
   "outputs": [
    {
     "output_type": "execute_result",
     "data": {
      "text/plain": [
       "3700245"
      ]
     },
     "metadata": {},
     "execution_count": 51
    }
   ],
   "source": [
    "df_0_first_digits = []\n",
    "for i in df_0_list:\n",
    "    match = re.findall('\\S*', i)\n",
    "    match = match[0]\n",
    "    df_0_first_digits.append(match)\n",
    "len(df_0_first_digits)"
   ]
  },
  {
   "cell_type": "code",
   "execution_count": 52,
   "metadata": {},
   "outputs": [
    {
     "output_type": "execute_result",
     "data": {
      "text/plain": [
       "3700245"
      ]
     },
     "metadata": {},
     "execution_count": 52
    }
   ],
   "source": [
    "df_0_second_digits = []\n",
    "for i in df_0_list:\n",
    "    match = re.findall('\\S* (\\S*)', i)\n",
    "    match = match[0]\n",
    "    df_0_second_digits.append(match)\n",
    "len(df_0_second_digits)"
   ]
  },
  {
   "cell_type": "code",
   "execution_count": 53,
   "metadata": {},
   "outputs": [
    {
     "output_type": "execute_result",
     "data": {
      "text/plain": [
       "3700245"
      ]
     },
     "metadata": {},
     "execution_count": 53
    }
   ],
   "source": [
    "df_0_third_digits = []\n",
    "for i in df_0_list:\n",
    "    match = re.findall('\\S* \\S* (\\S*)', i)\n",
    "    match = match[0]\n",
    "    df_0_third_digits.append(match)\n",
    "len(df_0_third_digits)"
   ]
  },
  {
   "cell_type": "code",
   "execution_count": 54,
   "metadata": {},
   "outputs": [
    {
     "output_type": "execute_result",
     "data": {
      "text/plain": [
       "3700245"
      ]
     },
     "metadata": {},
     "execution_count": 54
    }
   ],
   "source": [
    "df_0_caps = []\n",
    "for i in df_0_list:\n",
    "    match = re.findall('[A-Z]{4}', i)\n",
    "    match = match[0]\n",
    "    df_0_caps.append(match)\n",
    "len(df_0_caps)"
   ]
  },
  {
   "cell_type": "code",
   "execution_count": 55,
   "metadata": {},
   "outputs": [
    {
     "output_type": "execute_result",
     "data": {
      "text/plain": [
       "3700245"
      ]
     },
     "metadata": {},
     "execution_count": 55
    }
   ],
   "source": [
    "dfs_0 = []\n",
    "for i in df_0_list:\n",
    "    match = re.findall('dfs\\.\\S*:', i)\n",
    "    match = match[0]\n",
    "    dfs_0.append(match)\n",
    "\n",
    "len(dfs_0)"
   ]
  },
  {
   "cell_type": "code",
   "execution_count": 56,
   "metadata": {},
   "outputs": [],
   "source": [
    "block_id_0 = []\n",
    "for i in df_0_list:\n",
    "    match = re.findall('blk_\\S*', i)\n",
    "    match = match[0]\n",
    "    block_id_0.append(match)"
   ]
  },
  {
   "cell_type": "code",
   "execution_count": 57,
   "metadata": {},
   "outputs": [],
   "source": [
    "dict_0 = {'block_id': block_id_0, \n",
    "        'first_digits': df_0_first_digits,\n",
    "        'second_digits': df_0_second_digits,\n",
    "        'third_digits': df_0_third_digits,\n",
    "        'message': df_0_caps,\n",
    "        'event_type': dfs_0,\n",
    "        'block_asterisk': df_0_blocks_asterisk}"
   ]
  },
  {
   "cell_type": "code",
   "execution_count": 58,
   "metadata": {},
   "outputs": [],
   "source": [
    "df_0 = pd.DataFrame(dict_0)"
   ]
  },
  {
   "cell_type": "code",
   "execution_count": 59,
   "metadata": {},
   "outputs": [
    {
     "output_type": "execute_result",
     "data": {
      "text/plain": [
       "                   block_id first_digits second_digits third_digits message  \\\n",
       "0  blk_-1608999687919862906       081109        203518           35    INFO   \n",
       "1  blk_-1608999687919862906       081109        203519           29    INFO   \n",
       "2  blk_-1608999687919862906       081109        203519           30    INFO   \n",
       "3  blk_-1608999687919862906       081109        203519           31    INFO   \n",
       "4   blk_7503483334202473044       081109        203520           26    INFO   \n",
       "\n",
       "          event_type              block_asterisk  \n",
       "0  dfs.FSNamesystem:   NameSystem.allocateBlock:  \n",
       "1  dfs.FSNamesystem:  NameSystem.addStoredBlock:  \n",
       "2  dfs.FSNamesystem:  NameSystem.addStoredBlock:  \n",
       "3  dfs.FSNamesystem:  NameSystem.addStoredBlock:  \n",
       "4  dfs.FSNamesystem:   NameSystem.allocateBlock:  "
      ],
      "text/html": "<div>\n<style scoped>\n    .dataframe tbody tr th:only-of-type {\n        vertical-align: middle;\n    }\n\n    .dataframe tbody tr th {\n        vertical-align: top;\n    }\n\n    .dataframe thead th {\n        text-align: right;\n    }\n</style>\n<table border=\"1\" class=\"dataframe\">\n  <thead>\n    <tr style=\"text-align: right;\">\n      <th></th>\n      <th>block_id</th>\n      <th>first_digits</th>\n      <th>second_digits</th>\n      <th>third_digits</th>\n      <th>message</th>\n      <th>event_type</th>\n      <th>block_asterisk</th>\n    </tr>\n  </thead>\n  <tbody>\n    <tr>\n      <th>0</th>\n      <td>blk_-1608999687919862906</td>\n      <td>081109</td>\n      <td>203518</td>\n      <td>35</td>\n      <td>INFO</td>\n      <td>dfs.FSNamesystem:</td>\n      <td>NameSystem.allocateBlock:</td>\n    </tr>\n    <tr>\n      <th>1</th>\n      <td>blk_-1608999687919862906</td>\n      <td>081109</td>\n      <td>203519</td>\n      <td>29</td>\n      <td>INFO</td>\n      <td>dfs.FSNamesystem:</td>\n      <td>NameSystem.addStoredBlock:</td>\n    </tr>\n    <tr>\n      <th>2</th>\n      <td>blk_-1608999687919862906</td>\n      <td>081109</td>\n      <td>203519</td>\n      <td>30</td>\n      <td>INFO</td>\n      <td>dfs.FSNamesystem:</td>\n      <td>NameSystem.addStoredBlock:</td>\n    </tr>\n    <tr>\n      <th>3</th>\n      <td>blk_-1608999687919862906</td>\n      <td>081109</td>\n      <td>203519</td>\n      <td>31</td>\n      <td>INFO</td>\n      <td>dfs.FSNamesystem:</td>\n      <td>NameSystem.addStoredBlock:</td>\n    </tr>\n    <tr>\n      <th>4</th>\n      <td>blk_7503483334202473044</td>\n      <td>081109</td>\n      <td>203520</td>\n      <td>26</td>\n      <td>INFO</td>\n      <td>dfs.FSNamesystem:</td>\n      <td>NameSystem.allocateBlock:</td>\n    </tr>\n  </tbody>\n</table>\n</div>"
     },
     "metadata": {},
     "execution_count": 59
    }
   ],
   "source": [
    "df_0.head()"
   ]
  },
  {
   "source": [
    "## Creating the dataframe for df_1 type events"
   ],
   "cell_type": "markdown",
   "metadata": {}
  },
  {
   "cell_type": "code",
   "execution_count": 60,
   "metadata": {},
   "outputs": [
    {
     "output_type": "execute_result",
     "data": {
      "text/plain": [
       "'081109 203552 13 INFO dfs.DataBlockScanner: Verification succeeded for blk_-9073992586687739851\\n'"
      ]
     },
     "metadata": {},
     "execution_count": 60
    }
   ],
   "source": [
    "df_1_list[0]"
   ]
  },
  {
   "cell_type": "code",
   "execution_count": 61,
   "metadata": {},
   "outputs": [],
   "source": [
    "#count words in df_1_list\n",
    "word_count_1 = {}\n",
    "for i in df_1_list:\n",
    "    words = i.split()\n",
    "    for word in words:\n",
    "        if word in word_count_1:\n",
    "            word_count_1[word] += 1\n",
    "        else:\n",
    "            word_count_1[word] = 1"
   ]
  },
  {
   "cell_type": "code",
   "execution_count": 62,
   "metadata": {},
   "outputs": [
    {
     "output_type": "execute_result",
     "data": {
      "text/plain": [
       "120046"
      ]
     },
     "metadata": {},
     "execution_count": 62
    }
   ],
   "source": [
    "len(df_1_list)"
   ]
  },
  {
   "cell_type": "code",
   "execution_count": 63,
   "metadata": {},
   "outputs": [
    {
     "output_type": "stream",
     "name": "stdout",
     "text": [
      "13\nINFO\ndfs.DataBlockScanner:\nVerification\nsucceeded\nfor\n"
     ]
    }
   ],
   "source": [
    "# words in all of df_1_list events\n",
    "for key in word_count_1:\n",
    "    if word_count_1[key] > 100000 :\n",
    "        print(key)"
   ]
  },
  {
   "cell_type": "code",
   "execution_count": 64,
   "metadata": {},
   "outputs": [],
   "source": [
    "# alternatives to 'Verification'\n",
    "other_list = []\n",
    "for i in df_1_list:\n",
    "    if 'Verification' not in i:\n",
    "        other_list.append(i)\n"
   ]
  },
  {
   "cell_type": "code",
   "execution_count": 65,
   "metadata": {},
   "outputs": [
    {
     "output_type": "execute_result",
     "data": {
      "text/plain": [
       "['081111 043936 19784 WARN dfs.DataBlockScanner: Adding an already existing block blk_-2074647664485597823\\n',\n",
       " '081111 043936 20189 WARN dfs.DataBlockScanner: Adding an already existing block blk_-2074647664485597823\\n',\n",
       " '081111 043955 19904 WARN dfs.DataBlockScanner: Adding an already existing block blk_-7052911997539087826\\n',\n",
       " '081111 043956 15685 WARN dfs.DataBlockScanner: Adding an already existing block blk_-7052911997539087826\\n',\n",
       " '081111 070155 22669 WARN dfs.DataBlockScanner: Adding an already existing block blk_5697572983288390847\\n',\n",
       " '081111 070155 22810 WARN dfs.DataBlockScanner: Adding an already existing block blk_5697572983288390847\\n',\n",
       " '081111 073825 23413 WARN dfs.DataBlockScanner: Adding an already existing block blk_9176263204797010146\\n',\n",
       " '081111 073825 23432 WARN dfs.DataBlockScanner: Adding an already existing block blk_9176263204797010146\\n',\n",
       " '081111 073835 23186 WARN dfs.DataBlockScanner: Adding an already existing block blk_6647747942787068087\\n',\n",
       " '081111 073835 23410 WARN dfs.DataBlockScanner: Adding an already existing block blk_6647747942787068087\\n']"
      ]
     },
     "metadata": {},
     "execution_count": 65
    }
   ],
   "source": [
    "other_list"
   ]
  },
  {
   "cell_type": "code",
   "execution_count": 66,
   "metadata": {},
   "outputs": [],
   "source": [
    "ver_list = []\n",
    "for i in df_1_list:\n",
    "    if 'Verification' in i:\n",
    "        ver_list.append(i)"
   ]
  },
  {
   "cell_type": "code",
   "execution_count": 67,
   "metadata": {},
   "outputs": [
    {
     "output_type": "execute_result",
     "data": {
      "text/plain": [
       "True"
      ]
     },
     "metadata": {},
     "execution_count": 67
    }
   ],
   "source": [
    "len(other_list) + len(ver_list) == len(df_1_list)"
   ]
  },
  {
   "source": [
    "The columns for the df_1 dataframe will be:\n",
    "- block_id\n",
    "- first 6 digits (date)\n",
    "- second 6 digits\n",
    "- third set of numerical digits\n",
    "- INFO/WARN\n",
    "- dfs.... (event type)\n",
    "- block_id\n",
    "- ver_add (verification or adding)"
   ],
   "cell_type": "markdown",
   "metadata": {}
  },
  {
   "cell_type": "code",
   "execution_count": 68,
   "metadata": {},
   "outputs": [],
   "source": [
    "# Creating the column lists\n",
    "\n",
    "df_1_block_id = []\n",
    "df_1_first_digits = []\n",
    "df_1_second_digits = []\n",
    "df_1_third_digits = []\n",
    "df_1_caps = []\n",
    "dfs_1 = []\n",
    "add_ver_1 = []\n",
    "\n",
    "for i in df_1_list:\n",
    "    block_id = re.findall('blk_\\S*', i)\n",
    "    block_id = block_id[0]\n",
    "    df_1_block_id.append(block_id)\n",
    "\n",
    "    first = re.findall('\\S*', i)\n",
    "    first = first[0]\n",
    "    df_1_first_digits.append(first)\n",
    "\n",
    "    second = re.findall('\\S* (\\S*)', i)\n",
    "    second = second[0]\n",
    "    df_1_second_digits.append(second)\n",
    "\n",
    "    third = re.findall('\\S* \\S* (\\S*)', i)\n",
    "    third = third[0]\n",
    "    df_1_third_digits.append(third)\n",
    "\n",
    "    caps = re.findall('[A-Z]{4}', i)\n",
    "    caps = caps[0]\n",
    "    df_1_caps.append(caps)\n",
    "\n",
    "    dfs = re.findall('dfs\\.\\S*:', i)\n",
    "    dfs = dfs[0]\n",
    "    dfs_1.append(dfs)\n",
    "\n",
    "    add_ver = re.findall('dfs\\.\\S*: (\\S*)', i)\n",
    "    add_ver = add_ver[0]\n",
    "    add_ver_1.append(add_ver)"
   ]
  },
  {
   "cell_type": "code",
   "execution_count": 69,
   "metadata": {},
   "outputs": [
    {
     "output_type": "execute_result",
     "data": {
      "text/plain": [
       "                   block_id first_digits second_digits third_digits message  \\\n",
       "0  blk_-9073992586687739851       081109        203552           13    INFO   \n",
       "1  blk_-2917825689581470793       081109        203709           13    INFO   \n",
       "2  blk_-6370470857048627387       081109        203712           13    INFO   \n",
       "3  blk_-1470784088028862059       081109        203716           13    INFO   \n",
       "4  blk_-1548346834251221499       081109        203719           13    INFO   \n",
       "\n",
       "              event_type       add_ver  \n",
       "0  dfs.DataBlockScanner:  Verification  \n",
       "1  dfs.DataBlockScanner:  Verification  \n",
       "2  dfs.DataBlockScanner:  Verification  \n",
       "3  dfs.DataBlockScanner:  Verification  \n",
       "4  dfs.DataBlockScanner:  Verification  "
      ],
      "text/html": "<div>\n<style scoped>\n    .dataframe tbody tr th:only-of-type {\n        vertical-align: middle;\n    }\n\n    .dataframe tbody tr th {\n        vertical-align: top;\n    }\n\n    .dataframe thead th {\n        text-align: right;\n    }\n</style>\n<table border=\"1\" class=\"dataframe\">\n  <thead>\n    <tr style=\"text-align: right;\">\n      <th></th>\n      <th>block_id</th>\n      <th>first_digits</th>\n      <th>second_digits</th>\n      <th>third_digits</th>\n      <th>message</th>\n      <th>event_type</th>\n      <th>add_ver</th>\n    </tr>\n  </thead>\n  <tbody>\n    <tr>\n      <th>0</th>\n      <td>blk_-9073992586687739851</td>\n      <td>081109</td>\n      <td>203552</td>\n      <td>13</td>\n      <td>INFO</td>\n      <td>dfs.DataBlockScanner:</td>\n      <td>Verification</td>\n    </tr>\n    <tr>\n      <th>1</th>\n      <td>blk_-2917825689581470793</td>\n      <td>081109</td>\n      <td>203709</td>\n      <td>13</td>\n      <td>INFO</td>\n      <td>dfs.DataBlockScanner:</td>\n      <td>Verification</td>\n    </tr>\n    <tr>\n      <th>2</th>\n      <td>blk_-6370470857048627387</td>\n      <td>081109</td>\n      <td>203712</td>\n      <td>13</td>\n      <td>INFO</td>\n      <td>dfs.DataBlockScanner:</td>\n      <td>Verification</td>\n    </tr>\n    <tr>\n      <th>3</th>\n      <td>blk_-1470784088028862059</td>\n      <td>081109</td>\n      <td>203716</td>\n      <td>13</td>\n      <td>INFO</td>\n      <td>dfs.DataBlockScanner:</td>\n      <td>Verification</td>\n    </tr>\n    <tr>\n      <th>4</th>\n      <td>blk_-1548346834251221499</td>\n      <td>081109</td>\n      <td>203719</td>\n      <td>13</td>\n      <td>INFO</td>\n      <td>dfs.DataBlockScanner:</td>\n      <td>Verification</td>\n    </tr>\n  </tbody>\n</table>\n</div>"
     },
     "metadata": {},
     "execution_count": 69
    }
   ],
   "source": [
    "dict_1 = {'block_id': df_1_block_id, \n",
    "        'first_digits': df_1_first_digits,\n",
    "        'second_digits': df_1_second_digits,\n",
    "        'third_digits': df_1_third_digits,\n",
    "        'message': df_1_caps,\n",
    "        'event_type': dfs_1,\n",
    "        'add_ver': add_ver_1}\n",
    "\n",
    "df_1 = pd.DataFrame(dict_1)\n",
    "df_1.head()"
   ]
  },
  {
   "source": [
    "## Creating the dataframe for dfs_2 event type"
   ],
   "cell_type": "markdown",
   "metadata": {}
  },
  {
   "cell_type": "code",
   "execution_count": 70,
   "metadata": {},
   "outputs": [
    {
     "output_type": "execute_result",
     "data": {
      "text/plain": [
       "'081109 204524 19 INFO dfs.FSDataset: Deleting block blk_-8213344449220111733 file /mnt/hadoop/dfs/data/current/subdir39/blk_-8213344449220111733\\n'"
      ]
     },
     "metadata": {},
     "execution_count": 70
    }
   ],
   "source": [
    "df_2_list[0]"
   ]
  },
  {
   "cell_type": "code",
   "execution_count": 71,
   "metadata": {},
   "outputs": [],
   "source": [
    "#count words in df_2_list\n",
    "word_count_2 = {}\n",
    "for i in df_2_list:\n",
    "    words = i.split()\n",
    "    for word in words:\n",
    "        if word in word_count_2:\n",
    "            word_count_2[word] += 1\n",
    "        else:\n",
    "            word_count_2[word] = 1"
   ]
  },
  {
   "cell_type": "code",
   "execution_count": 72,
   "metadata": {},
   "outputs": [
    {
     "output_type": "stream",
     "name": "stdout",
     "text": [
      "19\nINFO\ndfs.FSDataset:\nDeleting\nblock\nfile\n"
     ]
    }
   ],
   "source": [
    "# words in all of df_2_list events\n",
    "for key in word_count_2:\n",
    "    if word_count_2[key] > 1000000:\n",
    "        print(key)"
   ]
  },
  {
   "cell_type": "code",
   "execution_count": 73,
   "metadata": {},
   "outputs": [],
   "source": [
    "other = []\n",
    "for i in df_2_list:\n",
    "    if 'Deleting' not in i:\n",
    "        other.append(i)"
   ]
  },
  {
   "cell_type": "code",
   "execution_count": 74,
   "metadata": {},
   "outputs": [
    {
     "output_type": "stream",
     "name": "stdout",
     "text": [
      "081110 014606 5794 INFO dfs.FSDataset: Reopen Block blk_7008279672769077211\n\n081111 043955 15685 INFO dfs.FSDataset: Reopen Block blk_-7052911997539087826\n\n081111 043955 19904 INFO dfs.FSDataset: Reopen Block blk_-7052911997539087826\n\n081111 071032 22899 INFO dfs.FSDataset: Reopen Block blk_8006271611835981128\n\n081111 071111 22949 INFO dfs.FSDataset: Reopen Block blk_-6363674043695218814\n\n"
     ]
    }
   ],
   "source": [
    "count = 0\n",
    "for i in other:\n",
    "    if 'Unexpected' not in i:\n",
    "        print(i)"
   ]
  },
  {
   "cell_type": "code",
   "execution_count": 75,
   "metadata": {},
   "outputs": [
    {
     "output_type": "execute_result",
     "data": {
      "text/plain": [
       "1407597"
      ]
     },
     "metadata": {},
     "execution_count": 75
    }
   ],
   "source": [
    "len(df_2_list)"
   ]
  },
  {
   "cell_type": "code",
   "execution_count": 76,
   "metadata": {},
   "outputs": [
    {
     "output_type": "execute_result",
     "data": {
      "text/plain": [
       "{'Deleting', 'Reopen', 'Unexpected'}"
      ]
     },
     "metadata": {},
     "execution_count": 76
    }
   ],
   "source": [
    "# first words after dfs...\n",
    "first_word_list = []\n",
    "for i in df_2_list:\n",
    "    first_word = re.findall('dfs\\.\\S*: (\\S*)', i)\n",
    "    first_word = first_word[0]\n",
    "    first_word_list.append(first_word)\n",
    "\n",
    "set(first_word_list)"
   ]
  },
  {
   "cell_type": "code",
   "execution_count": 77,
   "metadata": {},
   "outputs": [],
   "source": [
    "# Creating the column lists\n",
    "\n",
    "df_2_block_id = []\n",
    "df_2_first_digits = []\n",
    "df_2_second_digits = []\n",
    "df_2_third_digits = []\n",
    "df_2_caps = []\n",
    "dfs_2 = []\n",
    "dru_2 = []\n",
    "\n",
    "for i in df_2_list:\n",
    "    block_id = re.findall('blk_\\S*', i)\n",
    "    block_id = block_id[0]\n",
    "    df_2_block_id.append(block_id)\n",
    "\n",
    "    first = re.findall('\\S*', i)\n",
    "    first = first[0]\n",
    "    df_2_first_digits.append(first)\n",
    "\n",
    "    second = re.findall('\\S* (\\S*)', i)\n",
    "    second = second[0]\n",
    "    df_2_second_digits.append(second)\n",
    "\n",
    "    third = re.findall('\\S* \\S* (\\S*)', i)\n",
    "    third = third[0]\n",
    "    df_2_third_digits.append(third)\n",
    "\n",
    "    caps = re.findall('[A-Z]{4}', i)\n",
    "    caps = caps[0]\n",
    "    df_2_caps.append(caps)\n",
    "\n",
    "    dfs = re.findall('dfs\\.\\S*:', i)\n",
    "    dfs = dfs[0]\n",
    "    dfs_2.append(dfs)\n",
    "\n",
    "    dru = re.findall('dfs\\.\\S*: (\\S*)', i)\n",
    "    dru = dru[0]\n",
    "    dru_2.append(dru)"
   ]
  },
  {
   "cell_type": "code",
   "execution_count": 78,
   "metadata": {},
   "outputs": [
    {
     "output_type": "execute_result",
     "data": {
      "text/plain": [
       "{'Deleting', 'Reopen', 'Unexpected'}"
      ]
     },
     "metadata": {},
     "execution_count": 78
    }
   ],
   "source": [
    "set(dru_2)"
   ]
  },
  {
   "cell_type": "code",
   "execution_count": 79,
   "metadata": {},
   "outputs": [
    {
     "output_type": "execute_result",
     "data": {
      "text/plain": [
       "                   block_id first_digits second_digits third_digits message  \\\n",
       "0  blk_-8213344449220111733       081109        204524           19    INFO   \n",
       "1  blk_-6899869435641005946       081109        204600           19    INFO   \n",
       "2  blk_-8191677345482862686       081109        204603           19    INFO   \n",
       "3   blk_-919439116365725304       081109        204604           19    INFO   \n",
       "4   blk_3557914126063085372       081109        204623           19    INFO   \n",
       "\n",
       "       event_type       dru  \n",
       "0  dfs.FSDataset:  Deleting  \n",
       "1  dfs.FSDataset:  Deleting  \n",
       "2  dfs.FSDataset:  Deleting  \n",
       "3  dfs.FSDataset:  Deleting  \n",
       "4  dfs.FSDataset:  Deleting  "
      ],
      "text/html": "<div>\n<style scoped>\n    .dataframe tbody tr th:only-of-type {\n        vertical-align: middle;\n    }\n\n    .dataframe tbody tr th {\n        vertical-align: top;\n    }\n\n    .dataframe thead th {\n        text-align: right;\n    }\n</style>\n<table border=\"1\" class=\"dataframe\">\n  <thead>\n    <tr style=\"text-align: right;\">\n      <th></th>\n      <th>block_id</th>\n      <th>first_digits</th>\n      <th>second_digits</th>\n      <th>third_digits</th>\n      <th>message</th>\n      <th>event_type</th>\n      <th>dru</th>\n    </tr>\n  </thead>\n  <tbody>\n    <tr>\n      <th>0</th>\n      <td>blk_-8213344449220111733</td>\n      <td>081109</td>\n      <td>204524</td>\n      <td>19</td>\n      <td>INFO</td>\n      <td>dfs.FSDataset:</td>\n      <td>Deleting</td>\n    </tr>\n    <tr>\n      <th>1</th>\n      <td>blk_-6899869435641005946</td>\n      <td>081109</td>\n      <td>204600</td>\n      <td>19</td>\n      <td>INFO</td>\n      <td>dfs.FSDataset:</td>\n      <td>Deleting</td>\n    </tr>\n    <tr>\n      <th>2</th>\n      <td>blk_-8191677345482862686</td>\n      <td>081109</td>\n      <td>204603</td>\n      <td>19</td>\n      <td>INFO</td>\n      <td>dfs.FSDataset:</td>\n      <td>Deleting</td>\n    </tr>\n    <tr>\n      <th>3</th>\n      <td>blk_-919439116365725304</td>\n      <td>081109</td>\n      <td>204604</td>\n      <td>19</td>\n      <td>INFO</td>\n      <td>dfs.FSDataset:</td>\n      <td>Deleting</td>\n    </tr>\n    <tr>\n      <th>4</th>\n      <td>blk_3557914126063085372</td>\n      <td>081109</td>\n      <td>204623</td>\n      <td>19</td>\n      <td>INFO</td>\n      <td>dfs.FSDataset:</td>\n      <td>Deleting</td>\n    </tr>\n  </tbody>\n</table>\n</div>"
     },
     "metadata": {},
     "execution_count": 79
    }
   ],
   "source": [
    "dict_2 = {'block_id': df_2_block_id, \n",
    "        'first_digits': df_2_first_digits,\n",
    "        'second_digits': df_2_second_digits,\n",
    "        'third_digits': df_2_third_digits,\n",
    "        'message': df_2_caps,\n",
    "        'event_type': dfs_2,\n",
    "        'dru': dru_2}\n",
    "\n",
    "df_2 = pd.DataFrame(dict_2)\n",
    "df_2.head()"
   ]
  },
  {
   "source": [
    "## Create df_3 dataframe\n",
    "\n",
    "all words are the same after the event type for this list, so we will omit that as a column."
   ],
   "cell_type": "markdown",
   "metadata": {}
  },
  {
   "cell_type": "code",
   "execution_count": 80,
   "metadata": {},
   "outputs": [
    {
     "output_type": "execute_result",
     "data": {
      "text/plain": [
       "'081110 104936 16 WARN dfs.PendingReplicationBlocks$PendingReplicationMonitor: PendingReplicationMonitor timed out block blk_-5057834626410636236\\n'"
      ]
     },
     "metadata": {},
     "execution_count": 80
    }
   ],
   "source": [
    "df_3_list[0]"
   ]
  },
  {
   "cell_type": "code",
   "execution_count": 81,
   "metadata": {},
   "outputs": [],
   "source": [
    "# Creating the column lists\n",
    "\n",
    "df_3_block_id = []\n",
    "df_3_first_digits = []\n",
    "df_3_second_digits = []\n",
    "df_3_third_digits = []\n",
    "df_3_caps = []\n",
    "dfs_3 = []\n",
    "\n",
    "for i in df_3_list:\n",
    "    block_id = re.findall('blk_\\S*', i)\n",
    "    block_id = block_id[0]\n",
    "    df_3_block_id.append(block_id)\n",
    "\n",
    "    first = re.findall('\\S*', i)\n",
    "    first = first[0]\n",
    "    df_3_first_digits.append(first)\n",
    "\n",
    "    second = re.findall('\\S* (\\S*)', i)\n",
    "    second = second[0]\n",
    "    df_3_second_digits.append(second)\n",
    "\n",
    "    third = re.findall('\\S* \\S* (\\S*)', i)\n",
    "    third = third[0]\n",
    "    df_3_third_digits.append(third)\n",
    "\n",
    "    caps = re.findall('[A-Z]{4}', i)\n",
    "    caps = caps[0]\n",
    "    df_3_caps.append(caps)\n",
    "\n",
    "    dfs = re.findall('dfs\\.\\S*:', i)\n",
    "    dfs = dfs[0]\n",
    "    dfs_3.append(dfs)"
   ]
  },
  {
   "cell_type": "code",
   "execution_count": 82,
   "metadata": {},
   "outputs": [
    {
     "output_type": "execute_result",
     "data": {
      "text/plain": [
       "                   block_id first_digits second_digits third_digits message  \\\n",
       "0  blk_-5057834626410636236       081110        104936           16    WARN   \n",
       "1  blk_-2526833798441848968       081110        212435           16    WARN   \n",
       "2  blk_-2610256770731596149       081110        212435           16    WARN   \n",
       "3  blk_-6538891058531862642       081110        212435           16    WARN   \n",
       "4  blk_-6836377952319775628       081110        212435           16    WARN   \n",
       "\n",
       "                                          event_type  \n",
       "0  dfs.PendingReplicationBlocks$PendingReplicatio...  \n",
       "1  dfs.PendingReplicationBlocks$PendingReplicatio...  \n",
       "2  dfs.PendingReplicationBlocks$PendingReplicatio...  \n",
       "3  dfs.PendingReplicationBlocks$PendingReplicatio...  \n",
       "4  dfs.PendingReplicationBlocks$PendingReplicatio...  "
      ],
      "text/html": "<div>\n<style scoped>\n    .dataframe tbody tr th:only-of-type {\n        vertical-align: middle;\n    }\n\n    .dataframe tbody tr th {\n        vertical-align: top;\n    }\n\n    .dataframe thead th {\n        text-align: right;\n    }\n</style>\n<table border=\"1\" class=\"dataframe\">\n  <thead>\n    <tr style=\"text-align: right;\">\n      <th></th>\n      <th>block_id</th>\n      <th>first_digits</th>\n      <th>second_digits</th>\n      <th>third_digits</th>\n      <th>message</th>\n      <th>event_type</th>\n    </tr>\n  </thead>\n  <tbody>\n    <tr>\n      <th>0</th>\n      <td>blk_-5057834626410636236</td>\n      <td>081110</td>\n      <td>104936</td>\n      <td>16</td>\n      <td>WARN</td>\n      <td>dfs.PendingReplicationBlocks$PendingReplicatio...</td>\n    </tr>\n    <tr>\n      <th>1</th>\n      <td>blk_-2526833798441848968</td>\n      <td>081110</td>\n      <td>212435</td>\n      <td>16</td>\n      <td>WARN</td>\n      <td>dfs.PendingReplicationBlocks$PendingReplicatio...</td>\n    </tr>\n    <tr>\n      <th>2</th>\n      <td>blk_-2610256770731596149</td>\n      <td>081110</td>\n      <td>212435</td>\n      <td>16</td>\n      <td>WARN</td>\n      <td>dfs.PendingReplicationBlocks$PendingReplicatio...</td>\n    </tr>\n    <tr>\n      <th>3</th>\n      <td>blk_-6538891058531862642</td>\n      <td>081110</td>\n      <td>212435</td>\n      <td>16</td>\n      <td>WARN</td>\n      <td>dfs.PendingReplicationBlocks$PendingReplicatio...</td>\n    </tr>\n    <tr>\n      <th>4</th>\n      <td>blk_-6836377952319775628</td>\n      <td>081110</td>\n      <td>212435</td>\n      <td>16</td>\n      <td>WARN</td>\n      <td>dfs.PendingReplicationBlocks$PendingReplicatio...</td>\n    </tr>\n  </tbody>\n</table>\n</div>"
     },
     "metadata": {},
     "execution_count": 82
    }
   ],
   "source": [
    "dict_3 = {'block_id': df_3_block_id, \n",
    "        'first_digits': df_3_first_digits,\n",
    "        'second_digits': df_3_second_digits,\n",
    "        'third_digits': df_3_third_digits,\n",
    "        'message': df_3_caps,\n",
    "        'event_type': dfs_3,}\n",
    "\n",
    "df_3 = pd.DataFrame(dict_3)\n",
    "df_3.head()"
   ]
  },
  {
   "source": [
    "## Create df4 dataframe"
   ],
   "cell_type": "markdown",
   "metadata": {}
  },
  {
   "cell_type": "code",
   "execution_count": 83,
   "metadata": {},
   "outputs": [
    {
     "output_type": "execute_result",
     "data": {
      "text/plain": [
       "['081109 203521 147 INFO dfs.DataNode$DataTransfer: 10.250.14.224:50010:Transmitted block blk_-1608999687919862906 to /10.251.215.16:50010\\n',\n",
       " '081109 203526 152 INFO dfs.DataNode$DataTransfer: 10.251.215.16:50010:Transmitted block blk_-1608999687919862906 to /10.251.74.79:50010\\n',\n",
       " '081109 203527 148 INFO dfs.DataNode$DataTransfer: 10.251.107.19:50010:Transmitted block blk_-1608999687919862906 to /10.251.31.5:50010\\n',\n",
       " '081109 203532 161 INFO dfs.DataNode$DataTransfer: 10.251.31.5:50010:Transmitted block blk_-1608999687919862906 to /10.251.90.64:50010\\n',\n",
       " '081109 204522 528 INFO dfs.DataNode$DataTransfer: 10.251.43.21:50010:Transmitted block blk_-8213344449220111733 to /10.251.30.134:50010\\n',\n",
       " '081109 204557 537 INFO dfs.DataNode$DataTransfer: 10.251.39.64:50010:Transmitted block blk_-6899869435641005946 to /10.250.7.230:50010\\n',\n",
       " '081109 204600 560 INFO dfs.DataNode$DataTransfer: 10.251.123.20:50010:Transmitted block blk_-8191677345482862686 to /10.251.202.209:50010\\n',\n",
       " '081109 204602 549 INFO dfs.DataNode$DataTransfer: 10.251.31.242:50010:Transmitted block blk_-919439116365725304 to /10.251.65.203:50010\\n',\n",
       " '081109 204618 534 INFO dfs.DataNode$DataTransfer: 10.251.30.85:50010:Transmitted block blk_-7057732666118938934 to /10.251.106.214:50010\\n',\n",
       " '081109 204621 544 INFO dfs.DataNode$DataTransfer: 10.251.127.47:50010:Transmitted block blk_349284099419601276 to /10.251.126.22:50010\\n']"
      ]
     },
     "metadata": {},
     "execution_count": 83
    }
   ],
   "source": [
    "df_4_list[0:10]"
   ]
  },
  {
   "cell_type": "code",
   "execution_count": 84,
   "metadata": {},
   "outputs": [],
   "source": [
    "#count words in df_4_list\n",
    "word_count_4 = {}\n",
    "for i in df_4_list:\n",
    "    words = i.split()\n",
    "    for word in words:\n",
    "        if word in word_count_4:\n",
    "            word_count_4[word] += 1\n",
    "        else:\n",
    "            word_count_4[word] = 1"
   ]
  },
  {
   "cell_type": "code",
   "execution_count": 85,
   "metadata": {},
   "outputs": [],
   "source": [
    "word = []\n",
    "for i in df_4_list:\n",
    "    match = re.findall('dfs\\.\\S*: [\\d(.)]*:\\d*:(\\S*)', i)\n",
    "    match = match[0]\n",
    "    word.append(match)"
   ]
  },
  {
   "cell_type": "code",
   "execution_count": 86,
   "metadata": {},
   "outputs": [
    {
     "output_type": "execute_result",
     "data": {
      "text/plain": [
       "{'Failed', 'Transmitted'}"
      ]
     },
     "metadata": {},
     "execution_count": 86
    }
   ],
   "source": [
    "set(word)"
   ]
  },
  {
   "cell_type": "code",
   "execution_count": 87,
   "metadata": {},
   "outputs": [],
   "source": [
    "# Creating the column lists\n",
    "\n",
    "df_4_block_id = []\n",
    "df_4_first_digits = []\n",
    "df_4_second_digits = []\n",
    "df_4_third_digits = []\n",
    "df_4_caps = []\n",
    "dfs_4 = []\n",
    "df_4_trans_fail = []\n",
    "\n",
    "for i in df_4_list:\n",
    "    block_id = re.findall('blk_\\S*', i)\n",
    "    block_id = block_id[0]\n",
    "    df_4_block_id.append(block_id)\n",
    "\n",
    "    first = re.findall('\\S*', i)\n",
    "    first = first[0]\n",
    "    df_4_first_digits.append(first)\n",
    "\n",
    "    second = re.findall('\\S* (\\S*)', i)\n",
    "    second = second[0]\n",
    "    df_4_second_digits.append(second)\n",
    "\n",
    "    third = re.findall('\\S* \\S* (\\S*)', i)\n",
    "    third = third[0]\n",
    "    df_4_third_digits.append(third)\n",
    "\n",
    "    caps = re.findall('[A-Z]{4}', i)\n",
    "    caps = caps[0]\n",
    "    df_4_caps.append(caps)\n",
    "\n",
    "    dfs = re.findall('dfs\\.\\S*:', i)\n",
    "    dfs = dfs[0]\n",
    "    dfs_4.append(dfs)\n",
    "\n",
    "    trans_fail = re.findall('dfs\\.\\S*: [\\d(.)]*:\\d*:(\\S*)', i)\n",
    "    trans_fail = trans_fail[0]\n",
    "    df_4_trans_fail.append(trans_fail)"
   ]
  },
  {
   "cell_type": "code",
   "execution_count": 88,
   "metadata": {},
   "outputs": [
    {
     "output_type": "execute_result",
     "data": {
      "text/plain": [
       "                   block_id first_digits second_digits third_digits message  \\\n",
       "0  blk_-1608999687919862906       081109        203521          147    INFO   \n",
       "1  blk_-1608999687919862906       081109        203526          152    INFO   \n",
       "2  blk_-1608999687919862906       081109        203527          148    INFO   \n",
       "3  blk_-1608999687919862906       081109        203532          161    INFO   \n",
       "4  blk_-8213344449220111733       081109        204522          528    INFO   \n",
       "\n",
       "                   event_type   trans_fail  \n",
       "0  dfs.DataNode$DataTransfer:  Transmitted  \n",
       "1  dfs.DataNode$DataTransfer:  Transmitted  \n",
       "2  dfs.DataNode$DataTransfer:  Transmitted  \n",
       "3  dfs.DataNode$DataTransfer:  Transmitted  \n",
       "4  dfs.DataNode$DataTransfer:  Transmitted  "
      ],
      "text/html": "<div>\n<style scoped>\n    .dataframe tbody tr th:only-of-type {\n        vertical-align: middle;\n    }\n\n    .dataframe tbody tr th {\n        vertical-align: top;\n    }\n\n    .dataframe thead th {\n        text-align: right;\n    }\n</style>\n<table border=\"1\" class=\"dataframe\">\n  <thead>\n    <tr style=\"text-align: right;\">\n      <th></th>\n      <th>block_id</th>\n      <th>first_digits</th>\n      <th>second_digits</th>\n      <th>third_digits</th>\n      <th>message</th>\n      <th>event_type</th>\n      <th>trans_fail</th>\n    </tr>\n  </thead>\n  <tbody>\n    <tr>\n      <th>0</th>\n      <td>blk_-1608999687919862906</td>\n      <td>081109</td>\n      <td>203521</td>\n      <td>147</td>\n      <td>INFO</td>\n      <td>dfs.DataNode$DataTransfer:</td>\n      <td>Transmitted</td>\n    </tr>\n    <tr>\n      <th>1</th>\n      <td>blk_-1608999687919862906</td>\n      <td>081109</td>\n      <td>203526</td>\n      <td>152</td>\n      <td>INFO</td>\n      <td>dfs.DataNode$DataTransfer:</td>\n      <td>Transmitted</td>\n    </tr>\n    <tr>\n      <th>2</th>\n      <td>blk_-1608999687919862906</td>\n      <td>081109</td>\n      <td>203527</td>\n      <td>148</td>\n      <td>INFO</td>\n      <td>dfs.DataNode$DataTransfer:</td>\n      <td>Transmitted</td>\n    </tr>\n    <tr>\n      <th>3</th>\n      <td>blk_-1608999687919862906</td>\n      <td>081109</td>\n      <td>203532</td>\n      <td>161</td>\n      <td>INFO</td>\n      <td>dfs.DataNode$DataTransfer:</td>\n      <td>Transmitted</td>\n    </tr>\n    <tr>\n      <th>4</th>\n      <td>blk_-8213344449220111733</td>\n      <td>081109</td>\n      <td>204522</td>\n      <td>528</td>\n      <td>INFO</td>\n      <td>dfs.DataNode$DataTransfer:</td>\n      <td>Transmitted</td>\n    </tr>\n  </tbody>\n</table>\n</div>"
     },
     "metadata": {},
     "execution_count": 88
    }
   ],
   "source": [
    "dict_4 = {'block_id': df_4_block_id, \n",
    "        'first_digits': df_4_first_digits,\n",
    "        'second_digits': df_4_second_digits,\n",
    "        'third_digits': df_4_third_digits,\n",
    "        'message': df_4_caps,\n",
    "        'event_type': dfs_4,\n",
    "        'trans_fail': df_4_trans_fail}\n",
    "\n",
    "df_4 = pd.DataFrame(dict_4)\n",
    "df_4.head()"
   ]
  },
  {
   "source": [
    "## Create dataframe for df_5\n",
    "\n",
    "All events have the same format, so we don't need to add a column passed the event type"
   ],
   "cell_type": "markdown",
   "metadata": {}
  },
  {
   "cell_type": "code",
   "execution_count": 89,
   "metadata": {},
   "outputs": [
    {
     "output_type": "execute_result",
     "data": {
      "text/plain": [
       "'081109 203521 19 INFO dfs.DataNode: 10.250.14.224:50010 Starting thread to transfer block blk_-1608999687919862906 to 10.251.215.16:50010, 10.251.71.193:50010\\n'"
      ]
     },
     "metadata": {},
     "execution_count": 89
    }
   ],
   "source": [
    "df_5_list[0]"
   ]
  },
  {
   "cell_type": "code",
   "execution_count": 90,
   "metadata": {},
   "outputs": [],
   "source": [
    "#count words in df_5_list\n",
    "word_count_5 = {}\n",
    "for i in df_5_list:\n",
    "    words = i.split()\n",
    "    for word in words:\n",
    "        if word in word_count_5:\n",
    "            word_count_5[word] += 1\n",
    "        else:\n",
    "            word_count_5[word] = 1\n"
   ]
  },
  {
   "cell_type": "code",
   "execution_count": 91,
   "metadata": {},
   "outputs": [
    {
     "output_type": "stream",
     "name": "stdout",
     "text": [
      "INFO\ndfs.DataNode:\nStarting\nthread\nto\ntransfer\nblock\n"
     ]
    }
   ],
   "source": [
    "for key in word_count_5:\n",
    "    if word_count_5[key] >= len(df_5_list):\n",
    "        print(key)"
   ]
  },
  {
   "cell_type": "code",
   "execution_count": 92,
   "metadata": {},
   "outputs": [],
   "source": [
    "# Creating the column lists\n",
    "\n",
    "df_5_block_id = []\n",
    "df_5_first_digits = []\n",
    "df_5_second_digits = []\n",
    "df_5_third_digits = []\n",
    "df_5_caps = []\n",
    "dfs_5 = []\n",
    "\n",
    "for i in df_5_list:\n",
    "    block_id = re.findall('blk_\\S*', i)\n",
    "    block_id = block_id[0]\n",
    "    df_5_block_id.append(block_id)\n",
    "\n",
    "    first = re.findall('\\S*', i)\n",
    "    first = first[0]\n",
    "    df_5_first_digits.append(first)\n",
    "\n",
    "    second = re.findall('\\S* (\\S*)', i)\n",
    "    second = second[0]\n",
    "    df_5_second_digits.append(second)\n",
    "\n",
    "    third = re.findall('\\S* \\S* (\\S*)', i)\n",
    "    third = third[0]\n",
    "    df_5_third_digits.append(third)\n",
    "\n",
    "    caps = re.findall('[A-Z]{4}', i)\n",
    "    caps = caps[0]\n",
    "    df_5_caps.append(caps)\n",
    "\n",
    "    dfs = re.findall('dfs\\.\\S*:', i)\n",
    "    dfs = dfs[0]\n",
    "    dfs_5.append(dfs)"
   ]
  },
  {
   "cell_type": "code",
   "execution_count": 93,
   "metadata": {},
   "outputs": [
    {
     "output_type": "execute_result",
     "data": {
      "text/plain": [
       "                   block_id first_digits second_digits third_digits message  \\\n",
       "0  blk_-1608999687919862906       081109        203521           19    INFO   \n",
       "1  blk_-1608999687919862906       081109        203526           19    INFO   \n",
       "2  blk_-1608999687919862906       081109        203527           19    INFO   \n",
       "3  blk_-1608999687919862906       081109        203531           19    INFO   \n",
       "4  blk_-8213344449220111733       081109        204521           19    INFO   \n",
       "\n",
       "      event_type  \n",
       "0  dfs.DataNode:  \n",
       "1  dfs.DataNode:  \n",
       "2  dfs.DataNode:  \n",
       "3  dfs.DataNode:  \n",
       "4  dfs.DataNode:  "
      ],
      "text/html": "<div>\n<style scoped>\n    .dataframe tbody tr th:only-of-type {\n        vertical-align: middle;\n    }\n\n    .dataframe tbody tr th {\n        vertical-align: top;\n    }\n\n    .dataframe thead th {\n        text-align: right;\n    }\n</style>\n<table border=\"1\" class=\"dataframe\">\n  <thead>\n    <tr style=\"text-align: right;\">\n      <th></th>\n      <th>block_id</th>\n      <th>first_digits</th>\n      <th>second_digits</th>\n      <th>third_digits</th>\n      <th>message</th>\n      <th>event_type</th>\n    </tr>\n  </thead>\n  <tbody>\n    <tr>\n      <th>0</th>\n      <td>blk_-1608999687919862906</td>\n      <td>081109</td>\n      <td>203521</td>\n      <td>19</td>\n      <td>INFO</td>\n      <td>dfs.DataNode:</td>\n    </tr>\n    <tr>\n      <th>1</th>\n      <td>blk_-1608999687919862906</td>\n      <td>081109</td>\n      <td>203526</td>\n      <td>19</td>\n      <td>INFO</td>\n      <td>dfs.DataNode:</td>\n    </tr>\n    <tr>\n      <th>2</th>\n      <td>blk_-1608999687919862906</td>\n      <td>081109</td>\n      <td>203527</td>\n      <td>19</td>\n      <td>INFO</td>\n      <td>dfs.DataNode:</td>\n    </tr>\n    <tr>\n      <th>3</th>\n      <td>blk_-1608999687919862906</td>\n      <td>081109</td>\n      <td>203531</td>\n      <td>19</td>\n      <td>INFO</td>\n      <td>dfs.DataNode:</td>\n    </tr>\n    <tr>\n      <th>4</th>\n      <td>blk_-8213344449220111733</td>\n      <td>081109</td>\n      <td>204521</td>\n      <td>19</td>\n      <td>INFO</td>\n      <td>dfs.DataNode:</td>\n    </tr>\n  </tbody>\n</table>\n</div>"
     },
     "metadata": {},
     "execution_count": 93
    }
   ],
   "source": [
    "dict_5 = {'block_id': df_5_block_id, \n",
    "        'first_digits': df_5_first_digits,\n",
    "        'second_digits': df_5_second_digits,\n",
    "        'third_digits': df_5_third_digits,\n",
    "        'message': df_5_caps,\n",
    "        'event_type': dfs_5}\n",
    "\n",
    "df_5 = pd.DataFrame(dict_5)\n",
    "df_5.head()"
   ]
  },
  {
   "source": [
    "## Create dataframe for df_6 events"
   ],
   "cell_type": "markdown",
   "metadata": {}
  },
  {
   "cell_type": "code",
   "execution_count": 94,
   "metadata": {},
   "outputs": [
    {
     "output_type": "execute_result",
     "data": {
      "text/plain": [
       "'081109 203518 143 INFO dfs.DataNode$DataXceiver: Receiving block blk_-1608999687919862906 src: /10.250.19.102:54106 dest: /10.250.19.102:50010\\n'"
      ]
     },
     "metadata": {},
     "execution_count": 94
    }
   ],
   "source": [
    "df_6_list[0]"
   ]
  },
  {
   "cell_type": "code",
   "execution_count": 95,
   "metadata": {},
   "outputs": [
    {
     "output_type": "execute_result",
     "data": {
      "text/plain": [
       "2518678"
      ]
     },
     "metadata": {},
     "execution_count": 95
    }
   ],
   "source": [
    "len(df_6_list)"
   ]
  },
  {
   "cell_type": "code",
   "execution_count": 96,
   "metadata": {},
   "outputs": [
    {
     "output_type": "execute_result",
     "data": {
      "text/plain": [
       "True"
      ]
     },
     "metadata": {},
     "execution_count": 96
    }
   ],
   "source": [
    "info = []\n",
    "warn = []\n",
    "for i in df_6_list:\n",
    "    if 'INFO' in i:\n",
    "        info.append(i)\n",
    "    if 'WARN' in i:\n",
    "        warn.append(i)\n",
    "len(info) + len(warn) == len(df_6_list)"
   ]
  },
  {
   "cell_type": "code",
   "execution_count": 97,
   "metadata": {},
   "outputs": [
    {
     "output_type": "execute_result",
     "data": {
      "text/plain": [
       "'081109 203518 143 INFO dfs.DataNode$DataXceiver: Receiving block blk_-1608999687919862906 src: /10.250.19.102:54106 dest: /10.250.19.102:50010\\n'"
      ]
     },
     "metadata": {},
     "execution_count": 97
    }
   ],
   "source": [
    "info[0]"
   ]
  },
  {
   "cell_type": "code",
   "execution_count": 98,
   "metadata": {},
   "outputs": [
    {
     "output_type": "execute_result",
     "data": {
      "text/plain": [
       "'081109 213849 2471 WARN dfs.DataNode$DataXceiver: 10.251.71.68:50010:Got exception while serving blk_-8781759536960110370 to /10.250.17.225:\\n'"
      ]
     },
     "metadata": {},
     "execution_count": 98
    }
   ],
   "source": [
    "warn[0]"
   ]
  },
  {
   "cell_type": "code",
   "execution_count": 99,
   "metadata": {},
   "outputs": [
    {
     "output_type": "execute_result",
     "data": {
      "text/plain": [
       "1723232"
      ]
     },
     "metadata": {},
     "execution_count": 99
    }
   ],
   "source": [
    "count = 0\n",
    "for i in info:\n",
    "    if \"Receiving\" in i:\n",
    "        count += 1\n",
    "count"
   ]
  },
  {
   "cell_type": "code",
   "execution_count": 100,
   "metadata": {},
   "outputs": [
    {
     "output_type": "execute_result",
     "data": {
      "text/plain": [
       "356207"
      ]
     },
     "metadata": {},
     "execution_count": 100
    }
   ],
   "source": [
    "count = 0\n",
    "for i in warn:\n",
    "    if \"exception\" in i:\n",
    "        count += 1\n",
    "count"
   ]
  },
  {
   "cell_type": "code",
   "execution_count": 101,
   "metadata": {},
   "outputs": [
    {
     "output_type": "execute_result",
     "data": {
      "text/plain": [
       "{'Received', 'Receiving', 'Served', 'writeBlock'}"
      ]
     },
     "metadata": {},
     "execution_count": 101
    }
   ],
   "source": [
    "first = []\n",
    "for i in info:\n",
    "    match = re.findall('dfs\\.\\S*: [\\d(.): ]*([A-Za-z]*)', i)\n",
    "    match = match[0]\n",
    "    first.append(match)\n",
    "set(first)"
   ]
  },
  {
   "cell_type": "code",
   "execution_count": 122,
   "metadata": {},
   "outputs": [],
   "source": [
    "# Creating the column lists\n",
    "\n",
    "df_6_block_id = []\n",
    "df_6_first_digits = []\n",
    "df_6_second_digits = []\n",
    "df_6_third_digits = []\n",
    "df_6_caps = []\n",
    "dfs_6 = []\n",
    "df_6_rrswe = []\n",
    "\n",
    "for i in df_6_list:\n",
    "    block_id = re.findall('blk_\\S*', i)\n",
    "    block_id = block_id[0]\n",
    "    df_6_block_id.append(block_id)\n",
    "\n",
    "    first = re.findall('\\S*', i)\n",
    "    first = first[0]\n",
    "    df_6_first_digits.append(first)\n",
    "\n",
    "    second = re.findall('\\S* (\\S*)', i)\n",
    "    second = second[0]\n",
    "    df_6_second_digits.append(second)\n",
    "\n",
    "    third = re.findall('\\S* \\S* (\\S*)', i)\n",
    "    third = third[0]\n",
    "    df_6_third_digits.append(third)\n",
    "\n",
    "    caps = re.findall('[A-Z]{4}', i)\n",
    "    caps = caps[0]\n",
    "    df_6_caps.append(caps)\n",
    "\n",
    "    dfs = re.findall('dfs\\.\\S*:', i)\n",
    "    dfs = dfs[0]\n",
    "    dfs_6.append(dfs)\n",
    "\n",
    "    rrswe = re.findall('dfs\\.\\S*: [\\d(.): Got]*([A-Za-z]*)', i)\n",
    "    rrswe = rrswe[0]\n",
    "    df_6_rrswe.append(rrswe)"
   ]
  },
  {
   "cell_type": "code",
   "execution_count": 123,
   "metadata": {},
   "outputs": [
    {
     "output_type": "execute_result",
     "data": {
      "text/plain": [
       "                   block_id first_digits second_digits third_digits message  \\\n",
       "0  blk_-1608999687919862906       081109        203518          143    INFO   \n",
       "1  blk_-1608999687919862906       081109        203519          143    INFO   \n",
       "2  blk_-1608999687919862906       081109        203519          145    INFO   \n",
       "3   blk_7503483334202473044       081109        203520          142    INFO   \n",
       "4   blk_7503483334202473044       081109        203520          145    INFO   \n",
       "\n",
       "                  event_type      rrswe  \n",
       "0  dfs.DataNode$DataXceiver:  Receiving  \n",
       "1  dfs.DataNode$DataXceiver:  Receiving  \n",
       "2  dfs.DataNode$DataXceiver:  Receiving  \n",
       "3  dfs.DataNode$DataXceiver:  Receiving  \n",
       "4  dfs.DataNode$DataXceiver:  Receiving  "
      ],
      "text/html": "<div>\n<style scoped>\n    .dataframe tbody tr th:only-of-type {\n        vertical-align: middle;\n    }\n\n    .dataframe tbody tr th {\n        vertical-align: top;\n    }\n\n    .dataframe thead th {\n        text-align: right;\n    }\n</style>\n<table border=\"1\" class=\"dataframe\">\n  <thead>\n    <tr style=\"text-align: right;\">\n      <th></th>\n      <th>block_id</th>\n      <th>first_digits</th>\n      <th>second_digits</th>\n      <th>third_digits</th>\n      <th>message</th>\n      <th>event_type</th>\n      <th>rrswe</th>\n    </tr>\n  </thead>\n  <tbody>\n    <tr>\n      <th>0</th>\n      <td>blk_-1608999687919862906</td>\n      <td>081109</td>\n      <td>203518</td>\n      <td>143</td>\n      <td>INFO</td>\n      <td>dfs.DataNode$DataXceiver:</td>\n      <td>Receiving</td>\n    </tr>\n    <tr>\n      <th>1</th>\n      <td>blk_-1608999687919862906</td>\n      <td>081109</td>\n      <td>203519</td>\n      <td>143</td>\n      <td>INFO</td>\n      <td>dfs.DataNode$DataXceiver:</td>\n      <td>Receiving</td>\n    </tr>\n    <tr>\n      <th>2</th>\n      <td>blk_-1608999687919862906</td>\n      <td>081109</td>\n      <td>203519</td>\n      <td>145</td>\n      <td>INFO</td>\n      <td>dfs.DataNode$DataXceiver:</td>\n      <td>Receiving</td>\n    </tr>\n    <tr>\n      <th>3</th>\n      <td>blk_7503483334202473044</td>\n      <td>081109</td>\n      <td>203520</td>\n      <td>142</td>\n      <td>INFO</td>\n      <td>dfs.DataNode$DataXceiver:</td>\n      <td>Receiving</td>\n    </tr>\n    <tr>\n      <th>4</th>\n      <td>blk_7503483334202473044</td>\n      <td>081109</td>\n      <td>203520</td>\n      <td>145</td>\n      <td>INFO</td>\n      <td>dfs.DataNode$DataXceiver:</td>\n      <td>Receiving</td>\n    </tr>\n  </tbody>\n</table>\n</div>"
     },
     "metadata": {},
     "execution_count": 123
    }
   ],
   "source": [
    "dict_6 = {'block_id': df_6_block_id, \n",
    "        'first_digits': df_6_first_digits,\n",
    "        'second_digits': df_6_second_digits,\n",
    "        'third_digits': df_6_third_digits,\n",
    "        'message': df_6_caps,\n",
    "        'event_type': dfs_6,\n",
    "        'rrswe': df_6_rrswe}\n",
    "\n",
    "df_6 = pd.DataFrame(dict_6)\n",
    "df_6.head()"
   ]
  },
  {
   "source": [
    "## Create dataframe for df_7 events"
   ],
   "cell_type": "markdown",
   "metadata": {}
  },
  {
   "cell_type": "code",
   "execution_count": 130,
   "metadata": {},
   "outputs": [
    {
     "output_type": "execute_result",
     "data": {
      "text/plain": [
       "1718"
      ]
     },
     "metadata": {},
     "execution_count": 130
    }
   ],
   "source": [
    "len(df_7_list)"
   ]
  },
  {
   "cell_type": "code",
   "execution_count": 131,
   "metadata": {},
   "outputs": [
    {
     "output_type": "execute_result",
     "data": {
      "text/plain": [
       "'081109 204530 526 INFO dfs.DataNode$BlockReceiver: Receiving empty packet for block blk_-3842070622043972712\\n'"
      ]
     },
     "metadata": {},
     "execution_count": 131
    }
   ],
   "source": [
    "df_7_list[0]"
   ]
  },
  {
   "cell_type": "code",
   "execution_count": 132,
   "metadata": {},
   "outputs": [],
   "source": [
    "#count words in df_7_list\n",
    "word_count_7 = {}\n",
    "for i in df_7_list:\n",
    "    words = i.split()\n",
    "    for word in words:\n",
    "        if word in word_count_7:\n",
    "            word_count_7[word] += 1\n",
    "        else:\n",
    "            word_count_7[word] = 1"
   ]
  },
  {
   "cell_type": "code",
   "execution_count": 134,
   "metadata": {},
   "outputs": [
    {
     "output_type": "stream",
     "name": "stdout",
     "text": [
      "INFO\ndfs.DataNode$BlockReceiver:\n"
     ]
    }
   ],
   "source": [
    "for key in word_count_7:\n",
    "    if word_count_7[key] == len(df_7_list):\n",
    "        print(key)"
   ]
  },
  {
   "cell_type": "code",
   "execution_count": 157,
   "metadata": {},
   "outputs": [],
   "source": [
    "first = []\n",
    "long = []\n",
    "exp = []\n",
    "chan = []\n",
    "rec = []\n",
    "jav = []\n",
    "for i in df_7_list:\n",
    "    #match = re.findall('dfs\\.\\S*: [\\d(.):]*(\\S*)', i)\n",
    "    match = re.findall('dfs\\.\\S*: (\\S*)', i)\n",
    "    match = match[0]\n",
    "    first.append(match)\n",
    "    if len(match) > 15:\n",
    "        long.append(i)\n",
    "    if match == 'Exception':\n",
    "        exp.append(i)\n",
    "    if match == 'Changing':\n",
    "        chan.append(i)\n",
    "    if match == 'Receiving':\n",
    "        rec.append(i)\n",
    "#set(first)"
   ]
  },
  {
   "cell_type": "code",
   "execution_count": 155,
   "metadata": {},
   "outputs": [],
   "source": [
    "# Creating the column lists\n",
    "\n",
    "df_7_block_id = []\n",
    "df_7_first_digits = []\n",
    "df_7_second_digits = []\n",
    "df_7_third_digits = []\n",
    "df_7_caps = []\n",
    "dfs_7 = []\n",
    "df_7_type = []\n",
    "\n",
    "for i in df_7_list:\n",
    "    block_id = re.findall('blk_\\S*', i)\n",
    "    block_id = block_id[0]\n",
    "    df_7_block_id.append(block_id)\n",
    "\n",
    "    first = re.findall('\\S*', i)\n",
    "    first = first[0]\n",
    "    df_7_first_digits.append(first)\n",
    "\n",
    "    second = re.findall('\\S* (\\S*)', i)\n",
    "    second = second[0]\n",
    "    df_7_second_digits.append(second)\n",
    "\n",
    "    third = re.findall('\\S* \\S* (\\S*)', i)\n",
    "    third = third[0]\n",
    "    df_7_third_digits.append(third)\n",
    "\n",
    "    caps = re.findall('[A-Z]{4}', i)\n",
    "    caps = caps[0]\n",
    "    df_7_caps.append(caps)\n",
    "\n",
    "    dfs = re.findall('dfs\\.\\S*:', i)\n",
    "    dfs = dfs[0]\n",
    "    dfs_7.append(dfs)\n",
    "\n",
    "    type_7 = re.findall('dfs\\.\\S*: (\\S*)', i)\n",
    "    type_7 = type_7[0]\n",
    "    if len(type_7) > 15:\n",
    "        df_7_type.append('Exception writing')\n",
    "    elif type_7 == 'Exception':\n",
    "        type_7_j = re.findall('java\\.\\S*', i)\n",
    "        type_7_j = type_7_j[0]\n",
    "        df_7_type.append(type_7_j)\n",
    "    else:\n",
    "        df_7_type.append(type_7)"
   ]
  },
  {
   "cell_type": "code",
   "execution_count": 159,
   "metadata": {},
   "outputs": [
    {
     "output_type": "execute_result",
     "data": {
      "text/plain": [
       "                   block_id first_digits second_digits third_digits message  \\\n",
       "0  blk_-3842070622043972712       081109        204530          526    INFO   \n",
       "1  blk_-3842070622043972712       081109        204530          536    INFO   \n",
       "2  blk_-3842070622043972712       081109        204530          543    INFO   \n",
       "3   blk_7621437832633701631       081109        204553          525    INFO   \n",
       "4   blk_7621437832633701631       081109        204553          532    INFO   \n",
       "\n",
       "                    event_type       cerj  \n",
       "0  dfs.DataNode$BlockReceiver:  Receiving  \n",
       "1  dfs.DataNode$BlockReceiver:  Receiving  \n",
       "2  dfs.DataNode$BlockReceiver:  Receiving  \n",
       "3  dfs.DataNode$BlockReceiver:  Receiving  \n",
       "4  dfs.DataNode$BlockReceiver:  Receiving  "
      ],
      "text/html": "<div>\n<style scoped>\n    .dataframe tbody tr th:only-of-type {\n        vertical-align: middle;\n    }\n\n    .dataframe tbody tr th {\n        vertical-align: top;\n    }\n\n    .dataframe thead th {\n        text-align: right;\n    }\n</style>\n<table border=\"1\" class=\"dataframe\">\n  <thead>\n    <tr style=\"text-align: right;\">\n      <th></th>\n      <th>block_id</th>\n      <th>first_digits</th>\n      <th>second_digits</th>\n      <th>third_digits</th>\n      <th>message</th>\n      <th>event_type</th>\n      <th>cerj</th>\n    </tr>\n  </thead>\n  <tbody>\n    <tr>\n      <th>0</th>\n      <td>blk_-3842070622043972712</td>\n      <td>081109</td>\n      <td>204530</td>\n      <td>526</td>\n      <td>INFO</td>\n      <td>dfs.DataNode$BlockReceiver:</td>\n      <td>Receiving</td>\n    </tr>\n    <tr>\n      <th>1</th>\n      <td>blk_-3842070622043972712</td>\n      <td>081109</td>\n      <td>204530</td>\n      <td>536</td>\n      <td>INFO</td>\n      <td>dfs.DataNode$BlockReceiver:</td>\n      <td>Receiving</td>\n    </tr>\n    <tr>\n      <th>2</th>\n      <td>blk_-3842070622043972712</td>\n      <td>081109</td>\n      <td>204530</td>\n      <td>543</td>\n      <td>INFO</td>\n      <td>dfs.DataNode$BlockReceiver:</td>\n      <td>Receiving</td>\n    </tr>\n    <tr>\n      <th>3</th>\n      <td>blk_7621437832633701631</td>\n      <td>081109</td>\n      <td>204553</td>\n      <td>525</td>\n      <td>INFO</td>\n      <td>dfs.DataNode$BlockReceiver:</td>\n      <td>Receiving</td>\n    </tr>\n    <tr>\n      <th>4</th>\n      <td>blk_7621437832633701631</td>\n      <td>081109</td>\n      <td>204553</td>\n      <td>532</td>\n      <td>INFO</td>\n      <td>dfs.DataNode$BlockReceiver:</td>\n      <td>Receiving</td>\n    </tr>\n  </tbody>\n</table>\n</div>"
     },
     "metadata": {},
     "execution_count": 159
    }
   ],
   "source": [
    "dict_7 = {'block_id': df_7_block_id, \n",
    "        'first_digits': df_7_first_digits,\n",
    "        'second_digits': df_7_second_digits,\n",
    "        'third_digits': df_7_third_digits,\n",
    "        'message': df_7_caps,\n",
    "        'event_type': dfs_7,\n",
    "        'cerj': df_7_type}\n",
    "\n",
    "df_7 = pd.DataFrame(dict_7)\n",
    "df_7.head()"
   ]
  },
  {
   "source": [
    "## Create dataframe for df_8 events"
   ],
   "cell_type": "markdown",
   "metadata": {}
  },
  {
   "cell_type": "code",
   "execution_count": 168,
   "metadata": {},
   "outputs": [
    {
     "output_type": "execute_result",
     "data": {
      "text/plain": [
       "'081109 203519 145 INFO dfs.DataNode$PacketResponder: PacketResponder 1 for block blk_-1608999687919862906 terminating\\n'"
      ]
     },
     "metadata": {},
     "execution_count": 168
    }
   ],
   "source": [
    "df_8_list[0]"
   ]
  },
  {
   "cell_type": "code",
   "execution_count": 171,
   "metadata": {},
   "outputs": [],
   "source": [
    "#count words in df_8_list\n",
    "word_count_8 = {}\n",
    "for i in df_8_list:\n",
    "    words = i.split()\n",
    "    for word in words:\n",
    "        if word in word_count_8:\n",
    "            word_count_8[word] += 1\n",
    "        else:\n",
    "            word_count_8[word] = 1"
   ]
  },
  {
   "cell_type": "code",
   "execution_count": 172,
   "metadata": {},
   "outputs": [
    {
     "output_type": "stream",
     "name": "stdout",
     "text": [
      "INFO\ndfs.DataNode$PacketResponder:\n"
     ]
    }
   ],
   "source": [
    "for key in word_count_8:\n",
    "    if word_count_8[key] == len(df_8_list):\n",
    "        print(key)"
   ]
  },
  {
   "cell_type": "code",
   "execution_count": 175,
   "metadata": {},
   "outputs": [],
   "source": [
    "pack = []\n",
    "rec = []\n",
    "for i in df_8_list:\n",
    "    first_word = re.findall('dfs\\.\\S*: (\\S*)', i)\n",
    "    first_word = first_word[0]\n",
    "    if first_word == 'PacketResponder':\n",
    "        pack.append(i)\n",
    "    else:\n",
    "        rec.append(i)"
   ]
  },
  {
   "cell_type": "code",
   "execution_count": 180,
   "metadata": {},
   "outputs": [],
   "source": [
    "# Creating the column lists\n",
    "\n",
    "df_8_block_id = []\n",
    "df_8_first_digits = []\n",
    "df_8_second_digits = []\n",
    "df_8_third_digits = []\n",
    "df_8_caps = []\n",
    "dfs_8 = []\n",
    "df_8_type = []\n",
    "\n",
    "for i in df_8_list:\n",
    "    block_id = re.findall('blk_\\S*', i)\n",
    "    block_id = block_id[0]\n",
    "    df_8_block_id.append(block_id)\n",
    "\n",
    "    first = re.findall('\\S*', i)\n",
    "    first = first[0]\n",
    "    df_8_first_digits.append(first)\n",
    "\n",
    "    second = re.findall('\\S* (\\S*)', i)\n",
    "    second = second[0]\n",
    "    df_8_second_digits.append(second)\n",
    "\n",
    "    third = re.findall('\\S* \\S* (\\S*)', i)\n",
    "    third = third[0]\n",
    "    df_8_third_digits.append(third)\n",
    "\n",
    "    caps = re.findall('[A-Z]{4}', i)\n",
    "    caps = caps[0]\n",
    "    df_8_caps.append(caps)\n",
    "\n",
    "    dfs = re.findall('dfs\\.\\S*:', i)\n",
    "    dfs = dfs[0]\n",
    "    dfs_8.append(dfs)\n",
    "\n",
    "    type_8 = re.findall('dfs\\.\\S*: (\\S*)', i)\n",
    "    type_8 = type_8[0]\n",
    "    df_8_type.append(type_8)"
   ]
  },
  {
   "cell_type": "code",
   "execution_count": 181,
   "metadata": {},
   "outputs": [
    {
     "output_type": "execute_result",
     "data": {
      "text/plain": [
       "                   block_id first_digits second_digits third_digits message  \\\n",
       "0  blk_-1608999687919862906       081109        203519          145    INFO   \n",
       "1  blk_-1608999687919862906       081109        203519          145    INFO   \n",
       "2  blk_-1608999687919862906       081109        203519          145    INFO   \n",
       "3  blk_-1608999687919862906       081109        203519          145    INFO   \n",
       "4  blk_-1608999687919862906       081109        203519          147    INFO   \n",
       "\n",
       "                      event_type         pack_rec  \n",
       "0  dfs.DataNode$PacketResponder:  PacketResponder  \n",
       "1  dfs.DataNode$PacketResponder:  PacketResponder  \n",
       "2  dfs.DataNode$PacketResponder:         Received  \n",
       "3  dfs.DataNode$PacketResponder:         Received  \n",
       "4  dfs.DataNode$PacketResponder:  PacketResponder  "
      ],
      "text/html": "<div>\n<style scoped>\n    .dataframe tbody tr th:only-of-type {\n        vertical-align: middle;\n    }\n\n    .dataframe tbody tr th {\n        vertical-align: top;\n    }\n\n    .dataframe thead th {\n        text-align: right;\n    }\n</style>\n<table border=\"1\" class=\"dataframe\">\n  <thead>\n    <tr style=\"text-align: right;\">\n      <th></th>\n      <th>block_id</th>\n      <th>first_digits</th>\n      <th>second_digits</th>\n      <th>third_digits</th>\n      <th>message</th>\n      <th>event_type</th>\n      <th>pack_rec</th>\n    </tr>\n  </thead>\n  <tbody>\n    <tr>\n      <th>0</th>\n      <td>blk_-1608999687919862906</td>\n      <td>081109</td>\n      <td>203519</td>\n      <td>145</td>\n      <td>INFO</td>\n      <td>dfs.DataNode$PacketResponder:</td>\n      <td>PacketResponder</td>\n    </tr>\n    <tr>\n      <th>1</th>\n      <td>blk_-1608999687919862906</td>\n      <td>081109</td>\n      <td>203519</td>\n      <td>145</td>\n      <td>INFO</td>\n      <td>dfs.DataNode$PacketResponder:</td>\n      <td>PacketResponder</td>\n    </tr>\n    <tr>\n      <th>2</th>\n      <td>blk_-1608999687919862906</td>\n      <td>081109</td>\n      <td>203519</td>\n      <td>145</td>\n      <td>INFO</td>\n      <td>dfs.DataNode$PacketResponder:</td>\n      <td>Received</td>\n    </tr>\n    <tr>\n      <th>3</th>\n      <td>blk_-1608999687919862906</td>\n      <td>081109</td>\n      <td>203519</td>\n      <td>145</td>\n      <td>INFO</td>\n      <td>dfs.DataNode$PacketResponder:</td>\n      <td>Received</td>\n    </tr>\n    <tr>\n      <th>4</th>\n      <td>blk_-1608999687919862906</td>\n      <td>081109</td>\n      <td>203519</td>\n      <td>147</td>\n      <td>INFO</td>\n      <td>dfs.DataNode$PacketResponder:</td>\n      <td>PacketResponder</td>\n    </tr>\n  </tbody>\n</table>\n</div>"
     },
     "metadata": {},
     "execution_count": 181
    }
   ],
   "source": [
    "dict_8 = {'block_id': df_8_block_id, \n",
    "        'first_digits': df_8_first_digits,\n",
    "        'second_digits': df_8_second_digits,\n",
    "        'third_digits': df_8_third_digits,\n",
    "        'message': df_8_caps,\n",
    "        'event_type': dfs_8,\n",
    "        'pack_rec': df_8_type}\n",
    "\n",
    "df_8 = pd.DataFrame(dict_8)\n",
    "df_8.head()"
   ]
  },
  {
   "cell_type": "code",
   "execution_count": 192,
   "metadata": {},
   "outputs": [],
   "source": [
    "df_8.to_csv('C:\\\\Users\\conno\\MDS-labs\\data586\\Project\\DATA586_project\\string_dfs\\df_8_string.csv')"
   ]
  },
  {
   "cell_type": "code",
   "execution_count": 193,
   "metadata": {},
   "outputs": [],
   "source": [
    "hdfs.close()"
   ]
  },
  {
   "cell_type": "code",
   "execution_count": null,
   "metadata": {},
   "outputs": [],
   "source": []
  }
 ]
}